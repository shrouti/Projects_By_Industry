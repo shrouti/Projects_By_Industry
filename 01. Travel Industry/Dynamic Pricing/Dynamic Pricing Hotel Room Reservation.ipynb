{
 "cells": [
  {
   "cell_type": "markdown",
   "metadata": {},
   "source": [
    "# Dynamically Pricing Hotel Rooms for Maximum Revenue"
   ]
  },
  {
   "cell_type": "markdown",
   "metadata": {},
   "source": [
    "**Introduction**"
   ]
  },
  {
   "cell_type": "markdown",
   "metadata": {},
   "source": [
    "For a hotel chain, the strategy being used to price rooms can make or break the business. When compared to static pricing, pricing rooms dynamically — adjusting the price based on availability, demand, and other factors — can result in a lot more profit. But how do you identify the optimal price — and ensure that its implemented accordingly? \n",
    "\n",
    "I'll be using methodologies from \"Dynamic room pricing model for hotel revenue management systems\". In addition, I'll be explaining how to put this dynamic pricing model into production. Few features included:\n",
    "    1. The ability to deploy a model as a REST API. In this case, the API is called from a web application as part of a web reservation/booking system.\n",
    "    2. A job scheduler that allows you to update occupancy forecast at a pre-determined frequency (e.g., daily)\n",
    "    3. Model monitoring capabilities that track the performance of the pricing model via a report shared with business stakeholders\n",
    "\n"
   ]
  },
  {
   "cell_type": "markdown",
   "metadata": {},
   "source": [
    "<img src=\"dynamic-pricing-hospitality-industry.JPEG\">"
   ]
  },
  {
   "cell_type": "markdown",
   "metadata": {},
   "source": [
    "**The Problem**\n",
    "\n",
    "Typically, hotels control the quantity of rooms offered at different rates. In revenue management terms, this is an example of a quantity-based revenue management decision — rooms are typically offered initially at the lowest rate, but as the number of bookings surpasses the number allocated to the cheapest \"bucket,\" the rate changes to the value assigned to the second bucket.\n",
    "\n",
    "Below is an example of what quantity-based decision looks like for a particular room segment (e.g., deluxe king rooms with city view). In this chart, the prices are fixed ahead of time, but the number of rooms assigned to different rates could change depending on market conditions, time, etc. Once the second bucket is fully booked, the rate is bumped up to the third bucket, and so forth. This process continues until all the rooms have been booked. A similar approach is also adopted by airline companies to sell seats."
   ]
  },
  {
   "cell_type": "markdown",
   "metadata": {},
   "source": [
    "For a hotel, finding the rates that will maximize revenue constitutes a large optimization problem where the number of states to explore can be quite large. For example, a hotel can have multiple room segments and different lengths of stay (one night, two nights, one week, etc.) for which optimal prices need to be found over a long forecast horizon (e.g., 365 days). Such a scenario would result in a very large number of states to compute. If rate updates are required multiple times per day, this optimization problem becomes computationally challenging. \n",
    "\n",
    "To overcome this possible computational problem, hotels have used various simplifications. In \"Dynamic room pricing model for hotel revenue management systems,\" the authors used a price-based decision approach, which I have also used for the purposes of this post. In other words, I pre-assigned a number of rooms to each bucket, but bucket prices will vary over time."
   ]
  },
  {
   "cell_type": "markdown",
   "metadata": {},
   "source": [
    "**Mathematical Formulation**\n",
    "\n",
    "At its core, a revenue maximization exercise is an example of a constrained optimization problem. Let's lay out the mathematical framework first. I want to maximize the following objective function: \n",
    "\n",
    "$$ \\sum_{i=1}^{90} p_i \\times o_i  $$\n",
    "\n",
    "where i is the night index, pi is the price of the room segment of interest for night i, and oi is the projected occupancy (demand) for night i at price pi. Here, the sum is over a quarter (90 nights). We assume that the occupancy (demand) function is subject to the following relationship with the price:\n",
    "\n",
    "$$ o = o_{\\rm{nominal}} \\times \\bigg( \\frac{p}{p_{\\rm{nominal}}} \\bigg)^{e} $$\n",
    "\n",
    "where onominal corresponds to the forecasted occupancy for a given night based on rate pnominal. In this example, the base rate is $120. The value of e (elasticity) has taken a value of e = − 2 (based on Aziz's paper). In other words, p increases by 10%, and demand/occupancy decreases by roughly 20%.\n",
    "\n",
    "Let's say the hotel has a total of 80 rooms in the room segment of interest. The objective function listed above is subject to the following constraints:\n",
    "\n",
    "$$o_i \\leq 80~~\\forall~i$$\n",
    "\n",
    "and\n",
    "\n",
    "$$p_i \\geq 0~~\\forall_i \\; .$$\n",
    "\n",
    "In other words, the occupancy can't exceed the number of rooms available (80) and the price is strictly positive.\n",
    "\n",
    "In principle, an optimal price per night can be set ahead of time given the forecasted occupancy/demand for that night. However, this wouldn't be fully dynamic pricing: To get an update on the price, you would have to re-run the forecast and update the values of oi based on new data. This is typically done on a daily/weekly basis. \n",
    "\n",
    "To make this truly dynamic, I manipulated the capacity of the hotel and partitioned it into four overlapping segments. For each level of capacity, I solved the above objective function to get a set of four prices. In other words, each price level is set based on the current occupancy level in the hotel. The price will be low and it will increase as long as the number of available rooms in the hotel decreases.\n",
    "\n",
    "To find the optimal price, you simply have to find the number of rooms still available in the reservation database and the corresponding price segment based on the calculation above. As the number of reservations increase for a given night, the number of rooms available decrease and prices rise."
   ]
  },
  {
   "cell_type": "markdown",
   "metadata": {},
   "source": [
    "**A Simple Contextual Example**\n",
    "\n",
    "Imagine this scenario: The Plaza Hotel has a very simplistic rate schedule for their 80 junior suite with city view rooms. After a few months on the job, an analyst on the revenue management team notices that the fixed pricing scheme ($120/night during the high season) is a suboptimal scenario for maximizing revenue. These are the trends the newly hired analyst highlights:\n",
    "\n",
    "The hotel experiences relatively low occupancy in the middle of the week that could potentially be fixed by lowering the price, which could increase revenue overall.\n",
    "On weekends (Friday and Saturday nights) the situation is reversed. The hotel declines reservations because there are no vacancies. Increasing the price beyond $120 may increase revenue while still maximizing occupancy.\n",
    "The situation described above is a perfect application of a revenue/manage dynamic pricing framework. Many such frameworks (xotels, IDeaS, etc.) are used by hotels, although in some of these tools, the price levels are set manually by analysts. To circumvent the process of setting somewhat arbitrary price levels, we'll adopt the methodology described above. "
   ]
  },
  {
   "cell_type": "markdown",
   "metadata": {},
   "source": [
    "**Limitations of Our Approach**\n",
    "\n",
    "What you'll find below is a simple model for dynamically pricing hotel rooms. Consequently, there are several limitations to this simple approach. Here are the most important ones:\n",
    "\n",
    "I consider only a single length of stay (a single night).\n",
    "I do not account for group reservations or cancellations.\n",
    "I assume a monopolistic situation where competitors do not matter.\n",
    "I assume that the pricing does not vary by distribution channel (e.g., Orbitz, Hotels.com, trivago, Hotwire, etc.).\n",
    "I consider a single class of rooms (junior suites with city views). All of these rooms are deemed to be equivalent.\n",
    "I assume that the user has a forecast of demand for the next 90 days, based on historical data. In principle, this forecast should be updated on a daily basis with new booking information. \n",
    "I also assume that price elasticity is known. I adopted a value of -2, which is reasonable for the industry. \n",
    "In the cell below, I import a series of libraries that I need for my analysis."
   ]
  },
  {
   "cell_type": "code",
   "execution_count": 4,
   "metadata": {},
   "outputs": [
    {
     "data": {
      "text/html": [
       "<script>requirejs.config({paths: { 'plotly': ['https://cdn.plot.ly/plotly-latest.min']},});if(!window.Plotly) {{require(['plotly'],function(plotly) {window.Plotly=plotly;});}}</script>"
      ],
      "text/vnd.plotly.v1+html": [
       "<script>requirejs.config({paths: { 'plotly': ['https://cdn.plot.ly/plotly-latest.min']},});if(!window.Plotly) {{require(['plotly'],function(plotly) {window.Plotly=plotly;});}}</script>"
      ]
     },
     "metadata": {},
     "output_type": "display_data"
    }
   ],
   "source": [
    "import pandas as pd\n",
    "import numpy as np\n",
    "import scipy\n",
    "\n",
    "import math as mt\n",
    "\n",
    "import pickle as pkl\n",
    "import os\n",
    "import psycopg2\n",
    "import matplotlib\n",
    "import matplotlib.pyplot as plt\n",
    "from numpy.random import normal\n",
    "import calendar\n",
    "from scipy.optimize import curve_fit\n",
    "\n",
    "%matplotlib inline\n",
    "plt.rcParams['figure.figsize'] = (16,8)\n",
    "import warnings\n",
    "warnings.filterwarnings('ignore')\n",
    "\n",
    "#import plotly\n",
    "import plotly.plotly as py\n",
    "import plotly.graph_objs as go\n",
    "import plotly.figure_factory as ff\n",
    "from plotly.offline import download_plotlyjs, init_notebook_mode, plot, iplot\n",
    "init_notebook_mode(connected=True)"
   ]
  },
  {
   "cell_type": "markdown",
   "metadata": {},
   "source": [
    "**Occupancy Forecasting for the Next 90 Days**\n",
    "\n",
    "In the cells below, I will generate a forecast of the junior suites with city views based on the numbers provided for the Plaza Hotel. There are 80 junior suites. The forecast shows a weekly period with a mild trend upward indicating the start of the high touristic season, as well as peaks on the weekends. The green line shows the capacity of that particular room class.\n",
    "\n",
    "Note that the forecast below is based on the assumption that each room is priced $120 per night, which is typically what the Plaza Hotel charges for that room class. The forecast is based on historical data and should be updated frequently based on new reservation and cancellation data.\n",
    "\n",
    "Based on this baseline forecast at a price of $120 per night, my goal is to find optimal prices to maximize revenue."
   ]
  },
  {
   "cell_type": "code",
   "execution_count": 5,
   "metadata": {},
   "outputs": [],
   "source": [
    "# Let's define a function that will simulate an occupancy level (demand)\n",
    "# for the next \"nb_days\" days.\n",
    "\n",
    "def simulate_demand(nb_days, period=7.0, dc_level=35.0, noise_level=5.0,\n",
    "                    amplitude=3.0, phase=2.0*mt.pi/7.0, trend=0.06):\n",
    "    \"\"\"Simulate a demand curve over a forecast period.\n",
    "\n",
    "    Parameters\n",
    "    ----------\n",
    "\n",
    "    nb_days (integer):\n",
    "       Length of the forecast period (in days)\n",
    "\n",
    "    period (float):\n",
    "       Length of the seasonal component. Typically 7 days for weekly\n",
    "       fluctuations.\n",
    "\n",
    "    dc_level (float):\n",
    "       Baseline occupancy level\n",
    "\n",
    "    noise_level (float):\n",
    "       Noise level (additive) of the occupancy numbers. This number\n",
    "       corresponds to the standard deviation of the normal distribution.\n",
    "\n",
    "    amplitude (float):\n",
    "       Amplitude of the periodic signal\n",
    "\n",
    "    phase (float):\n",
    "       phase shift of the signal (in radians)\n",
    "\n",
    "    trend (float):\n",
    "       slope of the linear trend term. In units of rooms/day. Set to 0 if you\n",
    "       do not want to include a linear trend.\n",
    "\n",
    "    Returns\n",
    "    -------\n",
    "    A numpy.ndarray (1D) containing the forecast numbers.\n",
    "    \"\"\"\n",
    "\n",
    "    days = np.linspace(1,nb_days,nb_days)\n",
    "\n",
    "    # noise level:\n",
    "    noise = noise_level * normal(size=len(days))\n",
    "\n",
    "    # Demand signal:\n",
    "    demand = dc_level + trend * days + amplitude * \\\n",
    "             np.cos(2.0 * mt.pi * days / period + phase) + noise\n",
    "\n",
    "    return demand"
   ]
  },
  {
   "cell_type": "code",
   "execution_count": 16,
   "metadata": {},
   "outputs": [],
   "source": [
    "# Let's simulate the occupancy for a period of 90 days:\n",
    "\n",
    "date_start = '2017-07-31'\n",
    "date_end = '2017-10-29'\n",
    "nb_days = (pd.to_datetime(date_end) - pd.to_datetime(date_start)).days\n",
    "\n",
    "forecasted_demand = simulate_demand(nb_days, dc_level=68,\n",
    "                                    noise_level=1.0, amplitude=5)\n",
    "\n",
    "#forecasted_demand = map(round, forecasted_demand)\n",
    "#forecasted_demand\n",
    "forecasted_demand = pd.DataFrame(forecasted_demand,\n",
    "                                 index=pd.date_range(start=date_start,\n",
    "                                                     end=date_end,\n",
    "                                                     closed='left'),\n",
    "                                 columns=['occupancy'])"
   ]
  },
  {
   "cell_type": "markdown",
   "metadata": {},
   "source": [
    "Below, I show the outcome of a simple occupancy forecast simulation with **plotly.** "
   ]
  },
  {
   "cell_type": "code",
   "execution_count": 17,
   "metadata": {},
   "outputs": [
    {
     "data": {
      "application/vnd.plotly.v1+json": {
       "data": [
        {
         "name": "Forecasted Junior Suites with City View Occupancy for the next 90 days",
         "type": "scatter",
         "uid": "612bf1d0-d5bf-11e8-af04-fc45964f57a6",
         "x": [
          "2017-07-31",
          "2017-08-01",
          "2017-08-02",
          "2017-08-03",
          "2017-08-04",
          "2017-08-05",
          "2017-08-06",
          "2017-08-07",
          "2017-08-08",
          "2017-08-09",
          "2017-08-10",
          "2017-08-11",
          "2017-08-12",
          "2017-08-13",
          "2017-08-14",
          "2017-08-15",
          "2017-08-16",
          "2017-08-17",
          "2017-08-18",
          "2017-08-19",
          "2017-08-20",
          "2017-08-21",
          "2017-08-22",
          "2017-08-23",
          "2017-08-24",
          "2017-08-25",
          "2017-08-26",
          "2017-08-27",
          "2017-08-28",
          "2017-08-29",
          "2017-08-30",
          "2017-08-31",
          "2017-09-01",
          "2017-09-02",
          "2017-09-03",
          "2017-09-04",
          "2017-09-05",
          "2017-09-06",
          "2017-09-07",
          "2017-09-08",
          "2017-09-09",
          "2017-09-10",
          "2017-09-11",
          "2017-09-12",
          "2017-09-13",
          "2017-09-14",
          "2017-09-15",
          "2017-09-16",
          "2017-09-17",
          "2017-09-18",
          "2017-09-19",
          "2017-09-20",
          "2017-09-21",
          "2017-09-22",
          "2017-09-23",
          "2017-09-24",
          "2017-09-25",
          "2017-09-26",
          "2017-09-27",
          "2017-09-28",
          "2017-09-29",
          "2017-09-30",
          "2017-10-01",
          "2017-10-02",
          "2017-10-03",
          "2017-10-04",
          "2017-10-05",
          "2017-10-06",
          "2017-10-07",
          "2017-10-08",
          "2017-10-09",
          "2017-10-10",
          "2017-10-11",
          "2017-10-12",
          "2017-10-13",
          "2017-10-14",
          "2017-10-15",
          "2017-10-16",
          "2017-10-17",
          "2017-10-18",
          "2017-10-19",
          "2017-10-20",
          "2017-10-21",
          "2017-10-22",
          "2017-10-23",
          "2017-10-24",
          "2017-10-25",
          "2017-10-26",
          "2017-10-27",
          "2017-10-28"
         ],
         "y": [
          67.54852134976376,
          63.03201434638768,
          63.985496524448116,
          68.42813176275702,
          70.98147707650807,
          73.2026086945211,
          71.7211833823403,
          66.74612310201859,
          63.58055410598888,
          62.98048390451376,
          68.19170016304093,
          73.02802783167296,
          73.12146460671865,
          69.84502029826011,
          64.8914388677924,
          64.20410841203832,
          64.90768326856453,
          67.25854174279017,
          70.42278416407787,
          73.83937596160253,
          73.80199506628844,
          70.6706159846305,
          64.81352370752752,
          63.64022228999333,
          69.51265289461139,
          72.25992619988749,
          75.14444209798164,
          73.03042988440481,
          68.54563105194016,
          65.12837024713836,
          65.79317535677991,
          69.25006696479004,
          73.61859596925395,
          74.54283674666766,
          73.59461634522945,
          68.7258637358093,
          64.02001738236852,
          64.11830928181794,
          68.35453201144942,
          74.52271847666748,
          75.40268568932575,
          73.18741332865301,
          69.84098562834534,
          65.65155606835707,
          67.85522396176718,
          70.64128718436754,
          73.90159390242786,
          74.16783078630628,
          74.30093392167808,
          70.87043793312513,
          67.39921739918094,
          66.79044842091909,
          69.93010934273512,
          75.69343379945602,
          78.57274078676264,
          75.01333406054862,
          69.72776568021631,
          65.4178601562212,
          68.15841987528123,
          69.90779244959614,
          73.29682154674016,
          77.10574475387993,
          77.20343016824924,
          72.08934789075738,
          67.83919596325218,
          67.7827155137273,
          69.48284738275305,
          76.84361005553554,
          78.12623582540752,
          75.70760854036514,
          71.7308627760882,
          69.92732280637445,
          66.3646919578651,
          73.93272707759068,
          77.0634284268954,
          78.07009456964423,
          75.28855929972566,
          69.04102516524014,
          67.96335529447767,
          68.03066508800988,
          73.12997600346901,
          76.79576459010644,
          78.24190280205775,
          75.53425138334849,
          72.74357585560489,
          69.76271600712292,
          68.94457176024987,
          71.2737495219172,
          75.9068012213972,
          78.64005432085811
         ]
        }
       ],
       "layout": {
        "shapes": [
         {
          "line": {
           "color": "rgb(50, 171, 96)",
           "dash": "dashdot",
           "width": 4
          },
          "type": "line",
          "x0": "2017-07-31",
          "x1": "2017-10-31",
          "y0": 80,
          "y1": 80
         }
        ],
        "title": "Forecasted Junior Suites with City View Occupancy -- Each room is priced $120/night",
        "xaxis": {
         "title": "Day"
        },
        "yaxis": {
         "title": "Number of Rooms Occupied"
        }
       }
      },
      "text/html": [
       "<div id=\"2e5e7d31-870b-4d5e-af4d-3cfc4c6e2a44\" style=\"height: 525px; width: 100%;\" class=\"plotly-graph-div\"></div><script type=\"text/javascript\">require([\"plotly\"], function(Plotly) { window.PLOTLYENV=window.PLOTLYENV || {};window.PLOTLYENV.BASE_URL=\"https://plot.ly\";Plotly.newPlot(\"2e5e7d31-870b-4d5e-af4d-3cfc4c6e2a44\", [{\"name\": \"Forecasted Junior Suites with City View Occupancy for the next 90 days\", \"x\": [\"2017-07-31\", \"2017-08-01\", \"2017-08-02\", \"2017-08-03\", \"2017-08-04\", \"2017-08-05\", \"2017-08-06\", \"2017-08-07\", \"2017-08-08\", \"2017-08-09\", \"2017-08-10\", \"2017-08-11\", \"2017-08-12\", \"2017-08-13\", \"2017-08-14\", \"2017-08-15\", \"2017-08-16\", \"2017-08-17\", \"2017-08-18\", \"2017-08-19\", \"2017-08-20\", \"2017-08-21\", \"2017-08-22\", \"2017-08-23\", \"2017-08-24\", \"2017-08-25\", \"2017-08-26\", \"2017-08-27\", \"2017-08-28\", \"2017-08-29\", \"2017-08-30\", \"2017-08-31\", \"2017-09-01\", \"2017-09-02\", \"2017-09-03\", \"2017-09-04\", \"2017-09-05\", \"2017-09-06\", \"2017-09-07\", \"2017-09-08\", \"2017-09-09\", \"2017-09-10\", \"2017-09-11\", \"2017-09-12\", \"2017-09-13\", \"2017-09-14\", \"2017-09-15\", \"2017-09-16\", \"2017-09-17\", \"2017-09-18\", \"2017-09-19\", \"2017-09-20\", \"2017-09-21\", \"2017-09-22\", \"2017-09-23\", \"2017-09-24\", \"2017-09-25\", \"2017-09-26\", \"2017-09-27\", \"2017-09-28\", \"2017-09-29\", \"2017-09-30\", \"2017-10-01\", \"2017-10-02\", \"2017-10-03\", \"2017-10-04\", \"2017-10-05\", \"2017-10-06\", \"2017-10-07\", \"2017-10-08\", \"2017-10-09\", \"2017-10-10\", \"2017-10-11\", \"2017-10-12\", \"2017-10-13\", \"2017-10-14\", \"2017-10-15\", \"2017-10-16\", \"2017-10-17\", \"2017-10-18\", \"2017-10-19\", \"2017-10-20\", \"2017-10-21\", \"2017-10-22\", \"2017-10-23\", \"2017-10-24\", \"2017-10-25\", \"2017-10-26\", \"2017-10-27\", \"2017-10-28\"], \"y\": [67.54852134976376, 63.03201434638768, 63.985496524448116, 68.42813176275702, 70.98147707650807, 73.2026086945211, 71.7211833823403, 66.74612310201859, 63.58055410598888, 62.98048390451376, 68.19170016304093, 73.02802783167296, 73.12146460671865, 69.84502029826011, 64.8914388677924, 64.20410841203832, 64.90768326856453, 67.25854174279017, 70.42278416407787, 73.83937596160253, 73.80199506628844, 70.6706159846305, 64.81352370752752, 63.64022228999333, 69.51265289461139, 72.25992619988749, 75.14444209798164, 73.03042988440481, 68.54563105194016, 65.12837024713836, 65.79317535677991, 69.25006696479004, 73.61859596925395, 74.54283674666766, 73.59461634522945, 68.7258637358093, 64.02001738236852, 64.11830928181794, 68.35453201144942, 74.52271847666748, 75.40268568932575, 73.18741332865301, 69.84098562834534, 65.65155606835707, 67.85522396176718, 70.64128718436754, 73.90159390242786, 74.16783078630628, 74.30093392167808, 70.87043793312513, 67.39921739918094, 66.79044842091909, 69.93010934273512, 75.69343379945602, 78.57274078676264, 75.01333406054862, 69.72776568021631, 65.4178601562212, 68.15841987528123, 69.90779244959614, 73.29682154674016, 77.10574475387993, 77.20343016824924, 72.08934789075738, 67.83919596325218, 67.7827155137273, 69.48284738275305, 76.84361005553554, 78.12623582540752, 75.70760854036514, 71.7308627760882, 69.92732280637445, 66.3646919578651, 73.93272707759068, 77.0634284268954, 78.07009456964423, 75.28855929972566, 69.04102516524014, 67.96335529447767, 68.03066508800988, 73.12997600346901, 76.79576459010644, 78.24190280205775, 75.53425138334849, 72.74357585560489, 69.76271600712292, 68.94457176024987, 71.2737495219172, 75.9068012213972, 78.64005432085811], \"type\": \"scatter\", \"uid\": \"612bf1d0-d5bf-11e8-af04-fc45964f57a6\"}], {\"shapes\": [{\"line\": {\"color\": \"rgb(50, 171, 96)\", \"dash\": \"dashdot\", \"width\": 4}, \"type\": \"line\", \"x0\": \"2017-07-31\", \"x1\": \"2017-10-31\", \"y0\": 80.0, \"y1\": 80.0}], \"title\": \"Forecasted Junior Suites with City View Occupancy -- Each room is priced $120/night\", \"xaxis\": {\"title\": \"Day\"}, \"yaxis\": {\"title\": \"Number of Rooms Occupied\"}}, {\"showLink\": true, \"linkText\": \"Export to plot.ly\"})});</script>"
      ],
      "text/vnd.plotly.v1+html": [
       "<div id=\"2e5e7d31-870b-4d5e-af4d-3cfc4c6e2a44\" style=\"height: 525px; width: 100%;\" class=\"plotly-graph-div\"></div><script type=\"text/javascript\">require([\"plotly\"], function(Plotly) { window.PLOTLYENV=window.PLOTLYENV || {};window.PLOTLYENV.BASE_URL=\"https://plot.ly\";Plotly.newPlot(\"2e5e7d31-870b-4d5e-af4d-3cfc4c6e2a44\", [{\"name\": \"Forecasted Junior Suites with City View Occupancy for the next 90 days\", \"x\": [\"2017-07-31\", \"2017-08-01\", \"2017-08-02\", \"2017-08-03\", \"2017-08-04\", \"2017-08-05\", \"2017-08-06\", \"2017-08-07\", \"2017-08-08\", \"2017-08-09\", \"2017-08-10\", \"2017-08-11\", \"2017-08-12\", \"2017-08-13\", \"2017-08-14\", \"2017-08-15\", \"2017-08-16\", \"2017-08-17\", \"2017-08-18\", \"2017-08-19\", \"2017-08-20\", \"2017-08-21\", \"2017-08-22\", \"2017-08-23\", \"2017-08-24\", \"2017-08-25\", \"2017-08-26\", \"2017-08-27\", \"2017-08-28\", \"2017-08-29\", \"2017-08-30\", \"2017-08-31\", \"2017-09-01\", \"2017-09-02\", \"2017-09-03\", \"2017-09-04\", \"2017-09-05\", \"2017-09-06\", \"2017-09-07\", \"2017-09-08\", \"2017-09-09\", \"2017-09-10\", \"2017-09-11\", \"2017-09-12\", \"2017-09-13\", \"2017-09-14\", \"2017-09-15\", \"2017-09-16\", \"2017-09-17\", \"2017-09-18\", \"2017-09-19\", \"2017-09-20\", \"2017-09-21\", \"2017-09-22\", \"2017-09-23\", \"2017-09-24\", \"2017-09-25\", \"2017-09-26\", \"2017-09-27\", \"2017-09-28\", \"2017-09-29\", \"2017-09-30\", \"2017-10-01\", \"2017-10-02\", \"2017-10-03\", \"2017-10-04\", \"2017-10-05\", \"2017-10-06\", \"2017-10-07\", \"2017-10-08\", \"2017-10-09\", \"2017-10-10\", \"2017-10-11\", \"2017-10-12\", \"2017-10-13\", \"2017-10-14\", \"2017-10-15\", \"2017-10-16\", \"2017-10-17\", \"2017-10-18\", \"2017-10-19\", \"2017-10-20\", \"2017-10-21\", \"2017-10-22\", \"2017-10-23\", \"2017-10-24\", \"2017-10-25\", \"2017-10-26\", \"2017-10-27\", \"2017-10-28\"], \"y\": [67.54852134976376, 63.03201434638768, 63.985496524448116, 68.42813176275702, 70.98147707650807, 73.2026086945211, 71.7211833823403, 66.74612310201859, 63.58055410598888, 62.98048390451376, 68.19170016304093, 73.02802783167296, 73.12146460671865, 69.84502029826011, 64.8914388677924, 64.20410841203832, 64.90768326856453, 67.25854174279017, 70.42278416407787, 73.83937596160253, 73.80199506628844, 70.6706159846305, 64.81352370752752, 63.64022228999333, 69.51265289461139, 72.25992619988749, 75.14444209798164, 73.03042988440481, 68.54563105194016, 65.12837024713836, 65.79317535677991, 69.25006696479004, 73.61859596925395, 74.54283674666766, 73.59461634522945, 68.7258637358093, 64.02001738236852, 64.11830928181794, 68.35453201144942, 74.52271847666748, 75.40268568932575, 73.18741332865301, 69.84098562834534, 65.65155606835707, 67.85522396176718, 70.64128718436754, 73.90159390242786, 74.16783078630628, 74.30093392167808, 70.87043793312513, 67.39921739918094, 66.79044842091909, 69.93010934273512, 75.69343379945602, 78.57274078676264, 75.01333406054862, 69.72776568021631, 65.4178601562212, 68.15841987528123, 69.90779244959614, 73.29682154674016, 77.10574475387993, 77.20343016824924, 72.08934789075738, 67.83919596325218, 67.7827155137273, 69.48284738275305, 76.84361005553554, 78.12623582540752, 75.70760854036514, 71.7308627760882, 69.92732280637445, 66.3646919578651, 73.93272707759068, 77.0634284268954, 78.07009456964423, 75.28855929972566, 69.04102516524014, 67.96335529447767, 68.03066508800988, 73.12997600346901, 76.79576459010644, 78.24190280205775, 75.53425138334849, 72.74357585560489, 69.76271600712292, 68.94457176024987, 71.2737495219172, 75.9068012213972, 78.64005432085811], \"type\": \"scatter\", \"uid\": \"612bf1d0-d5bf-11e8-af04-fc45964f57a6\"}], {\"shapes\": [{\"line\": {\"color\": \"rgb(50, 171, 96)\", \"dash\": \"dashdot\", \"width\": 4}, \"type\": \"line\", \"x0\": \"2017-07-31\", \"x1\": \"2017-10-31\", \"y0\": 80.0, \"y1\": 80.0}], \"title\": \"Forecasted Junior Suites with City View Occupancy -- Each room is priced $120/night\", \"xaxis\": {\"title\": \"Day\"}, \"yaxis\": {\"title\": \"Number of Rooms Occupied\"}}, {\"showLink\": true, \"linkText\": \"Export to plot.ly\"})});</script>"
      ]
     },
     "metadata": {},
     "output_type": "display_data"
    }
   ],
   "source": [
    "# Let's plot the occupancy forecast using plotly:\n",
    "\n",
    "occupancy = [go.Scatter(x=forecasted_demand.index, y=forecasted_demand['occupancy'],\n",
    "                        name='Forecasted Junior Suites with City View Occupancy for the next 90 days')]\n",
    "\n",
    "layout_occ = go.Layout(title='Forecasted Junior Suites with City View Occupancy -- Each room is priced $120/night',\n",
    "                       xaxis={'title':'Day'},\n",
    "                       yaxis={'title':'Number of Rooms Occupied'},\n",
    "                       shapes=[{'type':'line',\n",
    "                                'x0':'2017-07-31',\n",
    "                                'x1':'2017-10-31',\n",
    "                                'y0':80.0, 'y1':80.0,\n",
    "                                'line': {\n",
    "                                    'color': 'rgb(50, 171, 96)',\n",
    "                                    'width': 4, 'dash':'dashdot'}\n",
    "                               }]\n",
    "                      )\n",
    "\n",
    "fig = go.Figure(data=occupancy, layout=layout_occ)\n",
    "iplot(fig, filename='occ_ts')"
   ]
  },
  {
   "cell_type": "markdown",
   "metadata": {},
   "source": [
    "The next step is to assume some relationship between price and demand. I have adopted the relationship described in the Mathematical Formulation of this piece and set the elasticity between price and demand to e = − 2."
   ]
  },
  {
   "cell_type": "code",
   "execution_count": 18,
   "metadata": {},
   "outputs": [],
   "source": [
    "# Let's assume a demand price elasticity function:\n",
    "\n",
    "def demand_price_elasticity(price, nominal_demand, elasticity=-2.0, nominal_price=120.0):\n",
    "    \"\"\"Returns demand given a value for the elasticity, nominal demand and nominal price.\n",
    "\n",
    "    Parameters\n",
    "    ----------\n",
    "\n",
    "    price (numpy.ndarray):\n",
    "        one-dimensional price array. The length of that array should correspond to the\n",
    "        length of the forecast period.\n",
    "\n",
    "    nominal_demand (numpy.ndarray):\n",
    "        one-dimensional forecasted occupancy array. The length of that array should\n",
    "        correspond to the length of the forecast period.\n",
    "\n",
    "    elasticity (float):\n",
    "        value of the elasticity between price and demand. A value of e=-2 is reasonable.\n",
    "\n",
    "    nominal_price (float):\n",
    "        room rate for which the forecast was computed.\n",
    "\n",
    "    Returns\n",
    "    -------\n",
    "\n",
    "    A numpy.ndarray of expected demand.\n",
    "    \"\"\"\n",
    "\n",
    "    return nominal_demand * ( price / nominal_price ) ** (elasticity)"
   ]
  },
  {
   "cell_type": "markdown",
   "metadata": {},
   "source": [
    "Finally, l'll bring the forecasted demand and demand elasticity together to define the constrained optimization problem. This will allow me to identify the optimal set of prices for different capacity levels. To minimize the objective function, I will use the **scipy.optimize** optimization library. Other libraries that can perform optimization tasks in Python include pyOpt and CVXOPT, to name a few."
   ]
  },
  {
   "cell_type": "code",
   "execution_count": 19,
   "metadata": {},
   "outputs": [],
   "source": [
    "import scipy.optimize as optimize"
   ]
  },
  {
   "cell_type": "code",
   "execution_count": 20,
   "metadata": {},
   "outputs": [],
   "source": [
    "# definition of the objective function:\n",
    "\n",
    "def objective(p_t, nominal_demand=np.array([50,40,30,20]),\n",
    "              elasticity=-2.0, nominal_price=120.0):\n",
    "    \"\"\"\n",
    "    Definition of the objective function. This is the function that want to minimize.\n",
    "    (minus sign in front)\n",
    "\n",
    "    Parameters\n",
    "    ----------\n",
    "\n",
    "    p_t (numpy.ndarray):\n",
    "        one-dimensional price array. The length of that array should correspond to the\n",
    "        length of the forecast period.\n",
    "\n",
    "    nominal_demand (numpy.ndarray):\n",
    "        one-dimensional forecasted occupancy array. The length of that array should\n",
    "        correspond to the length of the forecast period.\n",
    "\n",
    "    elasticity (float):\n",
    "        value of the elasticity between price and demand. A value of e=-2 is\n",
    "        reasonable.\n",
    "\n",
    "    nominal price (float):\n",
    "        room rate for which the forecast was computed.\n",
    "\n",
    "    Returns\n",
    "    -------\n",
    "\n",
    "    Value of the objective function (float).\n",
    "\n",
    "    Note: here we're trying to minimize the objective function. That's where the\n",
    "    minus sign comes_in.\n",
    "\n",
    "    \"\"\"\n",
    "\n",
    "    return (-1.0 * np.sum( p_t * demand_price_elasticity(p_t, nominal_demand=nominal_demand,\n",
    "                                                        elasticity=elasticity,\n",
    "                                                        nominal_price=nominal_price) )) / 100"
   ]
  },
  {
   "cell_type": "markdown",
   "metadata": {},
   "source": [
    "In the cell below, I explicitly list all the constraints the objective function is subject to. In this case, two constraints are defined:\n",
    "\n",
    "*Prices have strictly positive values\n",
    "\n",
    "*Demand can't exceed capacity"
   ]
  },
  {
   "cell_type": "code",
   "execution_count": 22,
   "metadata": {},
   "outputs": [],
   "source": [
    "# Constraints:\n",
    "\n",
    "def constraint_1(p_t):\n",
    "    \"\"\" This constraint ensures that the prices are positive.\n",
    "    \"\"\"\n",
    "    return p_t\n",
    "\n",
    "\n",
    "def constraint_2(p_t, capacity=20, forecasted_demand=35.0,\n",
    "                 elasticity=-2.0, nominal_price=120.0):\n",
    "    \"\"\" This constraint ensures that the demand does not exceed\n",
    "    capacity.\n",
    "\n",
    "    Parameters\n",
    "    ----------\n",
    "\n",
    "    p_t (float):\n",
    "        Room price\n",
    "\n",
    "    capacity (integer):\n",
    "        Capacity of the hotel (in rooms).\n",
    "\n",
    "    forecasted_demand (float):\n",
    "        Forecasted demand (in rooms) for that night\n",
    "\n",
    "    elasticity (float):\n",
    "        slope of the\n",
    "\n",
    "    nominal_price (float):\n",
    "        The price for which the forecasted_demand was computed.\n",
    "\n",
    "    Returns\n",
    "    -------\n",
    "    Returns an array of excess capacity.\n",
    "\n",
    "    \"\"\"\n",
    "    return capacity - demand_price_elasticity(p_t, nominal_demand=forecasted_demand,\n",
    "                                                        elasticity=elasticity,\n",
    "                                                        nominal_price=nominal_price)\n",
    "                                           "
   ]
  },
  {
   "cell_type": "markdown",
   "metadata": {},
   "source": [
    "I have defined the objective function and the constraints. Now, I'll perform the minimization over four overlapping capacity segments. To do this, I'll use the Sequential Least Squares Programming (SLSQP) minimization technique."
   ]
  },
  {
   "cell_type": "code",
   "execution_count": 23,
   "metadata": {},
   "outputs": [],
   "source": [
    "# Let's run the optimization algorithm over four overlapping segments\n",
    "# of 20, 40, 60, 80 room capacity.\n",
    "\n",
    "# We look at four capacity segments: 20, 40, 60, and 80 (full capacity)\n",
    "# rooms available.\n",
    "capacities = [20.0, 40.0, 60.0, 80.0]\n",
    "\n",
    "optimization_results = {}\n",
    "for capacity in capacities:\n",
    "\n",
    "    # Nominal price associated with forecasted demand:\n",
    "    nominal_price = 120.0\n",
    "    # Forecasted demand:\n",
    "    nominal_demand = forecasted_demand['occupancy'].values\n",
    "    # Assumed price elasticity:\n",
    "    elasticity = -2.0\n",
    "\n",
    "    # Starting values:\n",
    "    p_start = 125.0 * np.ones(len(nominal_demand))\n",
    "\n",
    "    # bounds on the prices. Let's stick with reasonable values.\n",
    "    # One could be more sophisticated here and apply constraints\n",
    "    # that limit the prices to be in range of what competitors\n",
    "    # are charging, for example.\n",
    "    bounds = tuple((10.0, 400.0) for p in p_start)\n",
    "\n",
    "    # Constraints:\n",
    "    constraints = ({'type': 'ineq', 'fun':  lambda x:  constraint_1(x)},\n",
    "               {'type': 'ineq', 'fun':  lambda x, capacity=capacity,\n",
    "                                           forecasted_demand=nominal_demand,\n",
    "                                           elasticity=elasticity,\n",
    "                                           nominal_price=nominal_price: constraint_2(x,capacity=capacity,\n",
    "                                                                                     forecasted_demand=nominal_demand,\n",
    "                                                                                     elasticity=elasticity,\n",
    "                                                                                     nominal_price=nominal_price)})\n",
    "\n",
    "    opt_results = optimize.minimize(objective, p_start, args=(nominal_demand,\n",
    "                                                              elasticity,\n",
    "                                                              nominal_price),\n",
    "                                    method='SLSQP', bounds=bounds,\n",
    "                                    constraints=constraints)\n",
    "\n",
    "    optimization_results[capacity] = opt_results"
   ]
  },
  {
   "cell_type": "code",
   "execution_count": 24,
   "metadata": {},
   "outputs": [],
   "source": [
    "# Plotting the resulting rates vs dates.\n",
    "\n",
    "time_array = np.linspace(1,len(nominal_demand),len(nominal_demand))\n",
    "rate_df = pd.DataFrame(index=time_array)\n",
    "\n",
    "for capacity in optimization_results.keys():\n",
    "    rate_df = pd.concat([rate_df,\n",
    "                         pd.DataFrame(optimization_results[capacity]['x'],\n",
    "                                      columns=['{}'.format(capacity)],\n",
    "                                      index=time_array)],\n",
    "                        axis=1)\n",
    "\n",
    "rate_df.index.name = 'Day'\n",
    "datelist = pd.date_range(start=date_start, end=date_end, closed='left').tolist()\n",
    "rate_df.index = [ x.date() for x in datelist]"
   ]
  },
  {
   "cell_type": "markdown",
   "metadata": {},
   "source": [
    "In the table below, I show an example of the rates as a function of the number of rooms still available for booking. For example, column Capacity left: 80.0 corresponds to the case where there are 80 rooms left to book (no reservations that night yet) while the column Capacity left: 20.0 represents the case where there are only 20 rooms left to book. As you can see, the prices go up as capacity goes down — which is what we intuitively expect.\n",
    "\n",
    "The table below shows the prices (in dollars) per night and per capacity levels. I also show the results in a chart highlighting fluctuations in price as a function of remaining capacity and day of week."
   ]
  },
  {
   "cell_type": "code",
   "execution_count": 25,
   "metadata": {},
   "outputs": [
    {
     "data": {
      "text/html": [
       "<div>\n",
       "<style scoped>\n",
       "    .dataframe tbody tr th:only-of-type {\n",
       "        vertical-align: middle;\n",
       "    }\n",
       "\n",
       "    .dataframe tbody tr th {\n",
       "        vertical-align: top;\n",
       "    }\n",
       "\n",
       "    .dataframe thead th {\n",
       "        text-align: right;\n",
       "    }\n",
       "</style>\n",
       "<table border=\"1\" class=\"dataframe\">\n",
       "  <thead>\n",
       "    <tr style=\"text-align: right;\">\n",
       "      <th></th>\n",
       "      <th>Capacity left : 20.0</th>\n",
       "      <th>Capacity left : 40.0</th>\n",
       "      <th>Capacity left : 60.0</th>\n",
       "      <th>Capacity left : 80.0</th>\n",
       "    </tr>\n",
       "  </thead>\n",
       "  <tbody>\n",
       "    <tr>\n",
       "      <th>Mon 2017-07-31</th>\n",
       "      <td>220.53</td>\n",
       "      <td>155.94</td>\n",
       "      <td>127.32</td>\n",
       "      <td>110.27</td>\n",
       "    </tr>\n",
       "    <tr>\n",
       "      <th>Tue 2017-08-01</th>\n",
       "      <td>213.03</td>\n",
       "      <td>150.64</td>\n",
       "      <td>122.99</td>\n",
       "      <td>106.52</td>\n",
       "    </tr>\n",
       "    <tr>\n",
       "      <th>Wed 2017-08-02</th>\n",
       "      <td>214.64</td>\n",
       "      <td>151.77</td>\n",
       "      <td>123.92</td>\n",
       "      <td>107.32</td>\n",
       "    </tr>\n",
       "    <tr>\n",
       "      <th>Thu 2017-08-03</th>\n",
       "      <td>221.96</td>\n",
       "      <td>156.95</td>\n",
       "      <td>128.15</td>\n",
       "      <td>110.98</td>\n",
       "    </tr>\n",
       "    <tr>\n",
       "      <th>Fri 2017-08-04</th>\n",
       "      <td>226.07</td>\n",
       "      <td>159.85</td>\n",
       "      <td>130.52</td>\n",
       "      <td>113.03</td>\n",
       "    </tr>\n",
       "    <tr>\n",
       "      <th>Sat 2017-08-05</th>\n",
       "      <td>229.58</td>\n",
       "      <td>162.34</td>\n",
       "      <td>132.55</td>\n",
       "      <td>114.79</td>\n",
       "    </tr>\n",
       "    <tr>\n",
       "      <th>Sun 2017-08-06</th>\n",
       "      <td>227.24</td>\n",
       "      <td>160.68</td>\n",
       "      <td>131.20</td>\n",
       "      <td>113.62</td>\n",
       "    </tr>\n",
       "    <tr>\n",
       "      <th>Mon 2017-08-07</th>\n",
       "      <td>219.22</td>\n",
       "      <td>155.01</td>\n",
       "      <td>126.57</td>\n",
       "      <td>109.61</td>\n",
       "    </tr>\n",
       "    <tr>\n",
       "      <th>Tue 2017-08-08</th>\n",
       "      <td>213.96</td>\n",
       "      <td>151.29</td>\n",
       "      <td>123.53</td>\n",
       "      <td>106.98</td>\n",
       "    </tr>\n",
       "    <tr>\n",
       "      <th>Wed 2017-08-09</th>\n",
       "      <td>212.95</td>\n",
       "      <td>150.58</td>\n",
       "      <td>122.94</td>\n",
       "      <td>106.47</td>\n",
       "    </tr>\n",
       "  </tbody>\n",
       "</table>\n",
       "</div>"
      ],
      "text/plain": [
       "                Capacity left : 20.0  Capacity left : 40.0  \\\n",
       "Mon 2017-07-31                220.53                155.94   \n",
       "Tue 2017-08-01                213.03                150.64   \n",
       "Wed 2017-08-02                214.64                151.77   \n",
       "Thu 2017-08-03                221.96                156.95   \n",
       "Fri 2017-08-04                226.07                159.85   \n",
       "Sat 2017-08-05                229.58                162.34   \n",
       "Sun 2017-08-06                227.24                160.68   \n",
       "Mon 2017-08-07                219.22                155.01   \n",
       "Tue 2017-08-08                213.96                151.29   \n",
       "Wed 2017-08-09                212.95                150.58   \n",
       "\n",
       "                Capacity left : 60.0  Capacity left : 80.0  \n",
       "Mon 2017-07-31                127.32                110.27  \n",
       "Tue 2017-08-01                122.99                106.52  \n",
       "Wed 2017-08-02                123.92                107.32  \n",
       "Thu 2017-08-03                128.15                110.98  \n",
       "Fri 2017-08-04                130.52                113.03  \n",
       "Sat 2017-08-05                132.55                114.79  \n",
       "Sun 2017-08-06                131.20                113.62  \n",
       "Mon 2017-08-07                126.57                109.61  \n",
       "Tue 2017-08-08                123.53                106.98  \n",
       "Wed 2017-08-09                122.94                106.47  "
      ]
     },
     "execution_count": 25,
     "metadata": {},
     "output_type": "execute_result"
    }
   ],
   "source": [
    "# Generate a pretty table for display purposes.\n",
    "\n",
    "rate_df_to_show = rate_df.copy()\n",
    "\n",
    "# Renaming the columns:\n",
    "rate_df_to_show = rate_df_to_show[np.sort(np.asarray(rate_df_to_show.columns))]\n",
    "rate_df_to_show.columns = ['Capacity left : {}'.format(x) for x in rate_df_to_show.columns]\n",
    "\n",
    "# Rounding the numbers:\n",
    "for col in rate_df_to_show.columns:\n",
    "    rate_df_to_show[col] = rate_df_to_show[col].apply(lambda x: round(x,2))\n",
    "\n",
    "dow_map = { 6:'Sun', 0:'Mon', 1:'Tue', 2:'Wed', 3:'Thu', 4:'Fri', 5:'Sat'}\n",
    "rate_df_to_show['date'] = rate_df_to_show.index\n",
    "rate_df_to_show['dow'] = rate_df_to_show['date'].apply(lambda x: dow_map[x.weekday()])\n",
    "rate_df_to_show['date'] = rate_df_to_show.apply(lambda row: row['dow']+\" \"+str(row['date']),\n",
    "                                                axis=1)\n",
    "rate_df_to_show.index = rate_df_to_show['date'].values\n",
    "rate_df_to_show.drop(['date','dow'],axis=1,inplace=True)\n",
    "rate_df_to_show.head(10)"
   ]
  },
  {
   "cell_type": "code",
   "execution_count": 26,
   "metadata": {},
   "outputs": [
    {
     "data": {
      "application/vnd.plotly.v1+json": {
       "data": [
        {
         "name": "Capacity Remaining : 20 rooms",
         "type": "scatter",
         "uid": "1f8310f4-d5c0-11e8-8511-fc45964f57a6",
         "x": [
          "Mon 2017-07-31",
          "Tue 2017-08-01",
          "Wed 2017-08-02",
          "Thu 2017-08-03",
          "Fri 2017-08-04",
          "Sat 2017-08-05",
          "Sun 2017-08-06"
         ],
         "y": [
          220.53,
          213.03,
          214.64,
          221.96,
          226.07,
          229.58,
          227.24
         ]
        },
        {
         "name": "Capacity Remaining : 40 rooms",
         "type": "scatter",
         "uid": "1f8310f5-d5c0-11e8-aee3-fc45964f57a6",
         "x": [
          "Mon 2017-07-31",
          "Tue 2017-08-01",
          "Wed 2017-08-02",
          "Thu 2017-08-03",
          "Fri 2017-08-04",
          "Sat 2017-08-05",
          "Sun 2017-08-06"
         ],
         "y": [
          155.94,
          150.64,
          151.77,
          156.95,
          159.85,
          162.34,
          160.68
         ]
        },
        {
         "name": "Capacity Remaining : 60 rooms",
         "type": "scatter",
         "uid": "1f8310f6-d5c0-11e8-adbe-fc45964f57a6",
         "x": [
          "Mon 2017-07-31",
          "Tue 2017-08-01",
          "Wed 2017-08-02",
          "Thu 2017-08-03",
          "Fri 2017-08-04",
          "Sat 2017-08-05",
          "Sun 2017-08-06"
         ],
         "y": [
          127.32,
          122.99,
          123.92,
          128.15,
          130.52,
          132.55,
          131.2
         ]
        },
        {
         "name": "Capacity Remaining : 80 rooms",
         "type": "scatter",
         "uid": "1f8310f7-d5c0-11e8-8cd6-fc45964f57a6",
         "x": [
          "Mon 2017-07-31",
          "Tue 2017-08-01",
          "Wed 2017-08-02",
          "Thu 2017-08-03",
          "Fri 2017-08-04",
          "Sat 2017-08-05",
          "Sun 2017-08-06"
         ],
         "y": [
          110.27,
          106.52,
          107.32,
          110.98,
          113.03,
          114.79,
          113.62
         ]
        }
       ],
       "layout": {
        "title": "Rate vs Reservation Date and Current Capacity Levels",
        "xaxis": {
         "title": "Day"
        },
        "yaxis": {
         "title": "Rate ($)"
        }
       }
      },
      "text/html": [
       "<div id=\"b9f7d4d8-bb08-4c07-a7d2-eb7083ea9b17\" style=\"height: 525px; width: 100%;\" class=\"plotly-graph-div\"></div><script type=\"text/javascript\">require([\"plotly\"], function(Plotly) { window.PLOTLYENV=window.PLOTLYENV || {};window.PLOTLYENV.BASE_URL=\"https://plot.ly\";Plotly.newPlot(\"b9f7d4d8-bb08-4c07-a7d2-eb7083ea9b17\", [{\"name\": \"Capacity Remaining : 20 rooms\", \"x\": [\"Mon 2017-07-31\", \"Tue 2017-08-01\", \"Wed 2017-08-02\", \"Thu 2017-08-03\", \"Fri 2017-08-04\", \"Sat 2017-08-05\", \"Sun 2017-08-06\"], \"y\": [220.53, 213.03, 214.64, 221.96, 226.07, 229.58, 227.24], \"type\": \"scatter\", \"uid\": \"1f8310f4-d5c0-11e8-8511-fc45964f57a6\"}, {\"name\": \"Capacity Remaining : 40 rooms\", \"x\": [\"Mon 2017-07-31\", \"Tue 2017-08-01\", \"Wed 2017-08-02\", \"Thu 2017-08-03\", \"Fri 2017-08-04\", \"Sat 2017-08-05\", \"Sun 2017-08-06\"], \"y\": [155.94, 150.64, 151.77, 156.95, 159.85, 162.34, 160.68], \"type\": \"scatter\", \"uid\": \"1f8310f5-d5c0-11e8-aee3-fc45964f57a6\"}, {\"name\": \"Capacity Remaining : 60 rooms\", \"x\": [\"Mon 2017-07-31\", \"Tue 2017-08-01\", \"Wed 2017-08-02\", \"Thu 2017-08-03\", \"Fri 2017-08-04\", \"Sat 2017-08-05\", \"Sun 2017-08-06\"], \"y\": [127.32, 122.99, 123.92, 128.15, 130.52, 132.55, 131.2], \"type\": \"scatter\", \"uid\": \"1f8310f6-d5c0-11e8-adbe-fc45964f57a6\"}, {\"name\": \"Capacity Remaining : 80 rooms\", \"x\": [\"Mon 2017-07-31\", \"Tue 2017-08-01\", \"Wed 2017-08-02\", \"Thu 2017-08-03\", \"Fri 2017-08-04\", \"Sat 2017-08-05\", \"Sun 2017-08-06\"], \"y\": [110.27, 106.52, 107.32, 110.98, 113.03, 114.79, 113.62], \"type\": \"scatter\", \"uid\": \"1f8310f7-d5c0-11e8-8cd6-fc45964f57a6\"}], {\"title\": \"Rate vs Reservation Date and Current Capacity Levels\", \"xaxis\": {\"title\": \"Day\"}, \"yaxis\": {\"title\": \"Rate ($)\"}}, {\"showLink\": true, \"linkText\": \"Export to plot.ly\"})});</script>"
      ],
      "text/vnd.plotly.v1+html": [
       "<div id=\"b9f7d4d8-bb08-4c07-a7d2-eb7083ea9b17\" style=\"height: 525px; width: 100%;\" class=\"plotly-graph-div\"></div><script type=\"text/javascript\">require([\"plotly\"], function(Plotly) { window.PLOTLYENV=window.PLOTLYENV || {};window.PLOTLYENV.BASE_URL=\"https://plot.ly\";Plotly.newPlot(\"b9f7d4d8-bb08-4c07-a7d2-eb7083ea9b17\", [{\"name\": \"Capacity Remaining : 20 rooms\", \"x\": [\"Mon 2017-07-31\", \"Tue 2017-08-01\", \"Wed 2017-08-02\", \"Thu 2017-08-03\", \"Fri 2017-08-04\", \"Sat 2017-08-05\", \"Sun 2017-08-06\"], \"y\": [220.53, 213.03, 214.64, 221.96, 226.07, 229.58, 227.24], \"type\": \"scatter\", \"uid\": \"1f8310f4-d5c0-11e8-8511-fc45964f57a6\"}, {\"name\": \"Capacity Remaining : 40 rooms\", \"x\": [\"Mon 2017-07-31\", \"Tue 2017-08-01\", \"Wed 2017-08-02\", \"Thu 2017-08-03\", \"Fri 2017-08-04\", \"Sat 2017-08-05\", \"Sun 2017-08-06\"], \"y\": [155.94, 150.64, 151.77, 156.95, 159.85, 162.34, 160.68], \"type\": \"scatter\", \"uid\": \"1f8310f5-d5c0-11e8-aee3-fc45964f57a6\"}, {\"name\": \"Capacity Remaining : 60 rooms\", \"x\": [\"Mon 2017-07-31\", \"Tue 2017-08-01\", \"Wed 2017-08-02\", \"Thu 2017-08-03\", \"Fri 2017-08-04\", \"Sat 2017-08-05\", \"Sun 2017-08-06\"], \"y\": [127.32, 122.99, 123.92, 128.15, 130.52, 132.55, 131.2], \"type\": \"scatter\", \"uid\": \"1f8310f6-d5c0-11e8-adbe-fc45964f57a6\"}, {\"name\": \"Capacity Remaining : 80 rooms\", \"x\": [\"Mon 2017-07-31\", \"Tue 2017-08-01\", \"Wed 2017-08-02\", \"Thu 2017-08-03\", \"Fri 2017-08-04\", \"Sat 2017-08-05\", \"Sun 2017-08-06\"], \"y\": [110.27, 106.52, 107.32, 110.98, 113.03, 114.79, 113.62], \"type\": \"scatter\", \"uid\": \"1f8310f7-d5c0-11e8-8cd6-fc45964f57a6\"}], {\"title\": \"Rate vs Reservation Date and Current Capacity Levels\", \"xaxis\": {\"title\": \"Day\"}, \"yaxis\": {\"title\": \"Rate ($)\"}}, {\"showLink\": true, \"linkText\": \"Export to plot.ly\"})});</script>"
      ]
     },
     "metadata": {},
     "output_type": "display_data"
    }
   ],
   "source": [
    "# Plotting the room rate time series.\n",
    "# Let's focus on a single week cycle.\n",
    "\n",
    "price_levels = [go.Scatter(x=rate_df_to_show.head(7).index,\n",
    "                           y=rate_df_to_show.head(7)['Capacity left : 20.0'],\n",
    "                           name='Capacity Remaining : 20 rooms'),\n",
    "                go.Scatter(x=rate_df_to_show.head(7).index,\n",
    "                           y=rate_df_to_show.head(7)['Capacity left : 40.0'],\n",
    "                           name='Capacity Remaining : 40 rooms'),\n",
    "                go.Scatter(x=rate_df_to_show.head(7).index,\n",
    "                           y=rate_df_to_show.head(7)['Capacity left : 60.0'],\n",
    "                           name='Capacity Remaining : 60 rooms'),\n",
    "                go.Scatter(x=rate_df_to_show.head(7).index,\n",
    "                           y=rate_df_to_show.head(7)['Capacity left : 80.0'],\n",
    "                           name='Capacity Remaining : 80 rooms')]\n",
    "\n",
    "layout_prices = go.Layout(title='Rate vs Reservation Date and Current Capacity Levels',\n",
    "                       xaxis={'title':'Day'}, yaxis={'title':'Rate ($)'})\n",
    "\n",
    "fig = go.Figure(data=price_levels, layout=layout_prices)\n",
    "iplot(fig, filename='price_levels_ts')"
   ]
  },
  {
   "cell_type": "code",
   "execution_count": 28,
   "metadata": {},
   "outputs": [],
   "source": [
    "# Save rate dataframe to local folder:\n",
    "\n",
    "rate_df.to_csv('data/rates.csv')"
   ]
  },
  {
   "cell_type": "markdown",
   "metadata": {},
   "source": [
    "In order for this dynamic pricing system to work, you have to check the number of reservations made for a particular night and assign the correct price based on the four price buckets I outlined above.\n",
    "\n",
    "This is the purpose of the **rate_query()** function that I will deploy as a REST API on the DataScience.com Platform. What this function does is query the number of rooms booked in the central booking database of the hotel and assign the prices accordingly."
   ]
  },
  {
   "cell_type": "code",
   "execution_count": 29,
   "metadata": {},
   "outputs": [],
   "source": [
    "# deploy a model. Given a date and the capacity for that date,\n",
    "# returns the rate.\n",
    "# Reads current capacity from the heroku reservations db\n",
    "# Read current rates from a csv file stored locally.\n",
    "\n",
    "def rate_query(arrival_date, departure_date):\n",
    "    \"\"\"Given an arrival and a departure dates, this function\n",
    "    will look up the current number of reservations for those dates\n",
    "    and return the optimal price according to the rate_df dataframe.\n",
    "\n",
    "    Parameters\n",
    "    ----------\n",
    "\n",
    "    arrival_date (string):\n",
    "        format YYYY-MM-DD\n",
    "\n",
    "    departure_date (string):\n",
    "        format YYYY-MM-DD\n",
    "\n",
    "    Returns\n",
    "    -------\n",
    "\n",
    "    A list containing the room rates for each night.\n",
    "    \"\"\"\n",
    "\n",
    "    # connection to the reservations database.\n",
    "    # In this case, we used a postgres DB hosted on heroku.\n",
    "    # The DataScience.com Platform allows you to easily store\n",
    "    # your access credentials as environment variables. You never\n",
    "    # have to copy and paste credentials directly in notebook!\n",
    "    conn = psycopg2.connect(database='my_db',\n",
    "                       port=os.environ['HOTEL_BOOKINGS_DB_PORT'],\n",
    "                       password=os.environ['HOTEL_BOOKINGS_DB_PASS'],\n",
    "                       user=os.environ['HOTEL_BOOKINGS_DB_USER'],\n",
    "                       host=os.environ['HOTEL_BOOKINGS_DB_HOST'])\n",
    "\n",
    "    current_bookings = pd.read_sql(\"SELECT * from bookings where date>=\\'{}\\' and date <\\'{}\\' \".format(arrival_date,\n",
    "                                                                                                        departure_date),conn)\n",
    "    current_bookings.index = pd.to_datetime(current_bookings['date'])\n",
    "    current_bookings.drop(['date'], axis=1, inplace=True)\n",
    "\n",
    "    # Read the rate dataframe:\n",
    "    rate_df = pd.read_csv('data/rates.csv',header=0, index_col=0)\n",
    "\n",
    "    # Check for no availability on any of those nights:\n",
    "    no_avail = current_bookings[current_bookings['rooms_available'] < 1.0 ]\n",
    "    if len(no_avail) > 0 :\n",
    "        raise ValueError(\"No Room available on {}\".format(no_avail.index))\n",
    "\n",
    "    capacity_values = rate_df.columns\n",
    "    capacity_values = np.sort(capacity_values)[::-1]\n",
    "\n",
    "    rates = []\n",
    "    # Look over each date in current_bookings:\n",
    "    for book_date in current_bookings.index:\n",
    "        id = 0\n",
    "        current_capacity = current_bookings.loc[book_date, 'rooms_available']\n",
    "        while id <= len(capacity_values)-1 and current_capacity <= float(capacity_values[id]):\n",
    "            tmp = rate_df.loc[str(book_date.date()), capacity_values[id]]\n",
    "            id+=1\n",
    "        rates.append(tmp)\n",
    "\n",
    "    return [ round(rate,2) for rate in rates ]"
   ]
  },
  {
   "cell_type": "markdown",
   "metadata": {},
   "source": [
    "<img src=\"room-rate-api-dynamic-pricing-hospitality-industry-playbook.PNG\">"
   ]
  },
  {
   "cell_type": "markdown",
   "metadata": {},
   "source": [
    "Finally, a web reservation/booking system can make HTTP requests to the dynamic pricing API and fetch updated prices. You can deploy multiple versions of the algorithm, which allows for A/B testing or multi-arm bandit tests of your pricing algorithm. Below is a snapshot of the web app, along with an example request made to the API."
   ]
  },
  {
   "cell_type": "markdown",
   "metadata": {},
   "source": [
    "<img src=\"hotel-reservation-system-dynamic-pricing-playbook.PNG\">"
   ]
  },
  {
   "cell_type": "markdown",
   "metadata": {},
   "source": [
    "In addition, we can schedule a job in the platform that updates the hotel's occupancy forecast on a daily basis based on new reservation and cancellation data."
   ]
  },
  {
   "cell_type": "markdown",
   "metadata": {},
   "source": [
    "**Conclusion**\n",
    "\n",
    "While this is a very simplified approach to dynamically pricing hotel rooms, I hope it provides you with a clear introduction to how powerful data science can be for a business like a hotel. \n",
    "\n",
    "Of course, dynamic pricing is only powerful if pricing information gets to the right people. The DataScience.com Platform can be used to implement, deploy, and update a dynamic pricing model, so that analysts don't have to manually update prices in different tools."
   ]
  },
  {
   "cell_type": "code",
   "execution_count": null,
   "metadata": {},
   "outputs": [],
   "source": []
  }
 ],
 "metadata": {
  "kernelspec": {
   "display_name": "Python 3",
   "language": "python",
   "name": "python3"
  },
  "language_info": {
   "codemirror_mode": {
    "name": "ipython",
    "version": 3
   },
   "file_extension": ".py",
   "mimetype": "text/x-python",
   "name": "python",
   "nbconvert_exporter": "python",
   "pygments_lexer": "ipython3",
   "version": "3.6.5"
  },
  "latex_envs": {
   "LaTeX_envs_menu_present": true,
   "autoclose": true,
   "autocomplete": true,
   "bibliofile": "biblio.bib",
   "cite_by": "apalike",
   "current_citInitial": 1,
   "eqLabelWithNumbers": true,
   "eqNumInitial": 1,
   "hotkeys": {
    "equation": "Ctrl-E",
    "itemize": "Ctrl-I"
   },
   "labels_anchors": false,
   "latex_user_defs": false,
   "report_style_numbering": false,
   "user_envs_cfg": false
  },
  "nbTranslate": {
   "displayLangs": [
    "*"
   ],
   "hotkey": "alt-t",
   "langInMainMenu": true,
   "sourceLang": "en",
   "targetLang": "fr",
   "useGoogleTranslate": true
  },
  "toc": {
   "base_numbering": 1,
   "nav_menu": {},
   "number_sections": true,
   "sideBar": true,
   "skip_h1_title": false,
   "title_cell": "Table of Contents",
   "title_sidebar": "Contents",
   "toc_cell": false,
   "toc_position": {},
   "toc_section_display": true,
   "toc_window_display": false
  },
  "varInspector": {
   "cols": {
    "lenName": 16,
    "lenType": 16,
    "lenVar": 40
   },
   "kernels_config": {
    "python": {
     "delete_cmd_postfix": "",
     "delete_cmd_prefix": "del ",
     "library": "var_list.py",
     "varRefreshCmd": "print(var_dic_list())"
    },
    "r": {
     "delete_cmd_postfix": ") ",
     "delete_cmd_prefix": "rm(",
     "library": "var_list.r",
     "varRefreshCmd": "cat(var_dic_list()) "
    }
   },
   "types_to_exclude": [
    "module",
    "function",
    "builtin_function_or_method",
    "instance",
    "_Feature"
   ],
   "window_display": false
  }
 },
 "nbformat": 4,
 "nbformat_minor": 2
}
