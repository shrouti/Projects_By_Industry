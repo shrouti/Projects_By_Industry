{
 "cells": [
  {
   "cell_type": "code",
   "execution_count": 1,
   "metadata": {},
   "outputs": [],
   "source": [
    "import pandas as pd\n",
    "import numpy as np\n",
    "from matplotlib import pyplot as plt\n",
    "import matplotlib\n",
    "matplotlib.style.use('ggplot')\n",
    "\n",
    "%matplotlib inline\n",
    "\n",
    "import time\n",
    "from scipy.stats import randint as sp_randint\n",
    "import seaborn as sns\n",
    "\n",
    "import sklearn\n",
    "from sklearn.preprocessing import OneHotEncoder\n",
    "from sklearn.ensemble import RandomForestClassifier\n",
    "from sklearn.mixture import GaussianMixture\n",
    "from sklearn.model_selection import RandomizedSearchCV, GridSearchCV\n",
    "from sklearn.model_selection import cross_val_score, train_test_split\n",
    "from sklearn import metrics\n",
    "\n",
    "from sklearn.metrics import roc_auc_score, roc_curve, auc, classification_report\n",
    "from sklearn.metrics import f1_score, precision_score, recall_score\n",
    "from sklearn.metrics import mean_squared_error, cohen_kappa_score, make_scorer\n",
    "from sklearn.metrics import confusion_matrix, accuracy_score, average_precision_score\n",
    "from sklearn.metrics import precision_recall_curve, SCORERS\n",
    "from sklearn.model_selection import learning_curve\n",
    "from sklearn.model_selection import ShuffleSplit\n",
    "from sklearn.externals import joblib\n",
    "\n",
    "\n",
    "import xgboost\n",
    "from xgboost import XGBClassifier\n",
    "from sklearn.linear_model import LogisticRegression\n",
    "from sklearn.ensemble import RandomForestClassifier, GradientBoostingClassifier, AdaBoostClassifier\n",
    "from sklearn.svm import SVC\n",
    "\n",
    "from tabulate import tabulate\n",
    "from datetime import datetime"
   ]
  },
  {
   "cell_type": "code",
   "execution_count": 2,
   "metadata": {},
   "outputs": [],
   "source": [
    "def timer(start_time=None):\n",
    "    if not start_time:\n",
    "        start_time = datetime.now()\n",
    "        return start_time\n",
    "    elif start_time:\n",
    "        thour, temp_sec = divmod((datetime.now() - start_time).total_seconds(), 3600)\n",
    "        tmin, tsec = divmod(temp_sec, 60)\n",
    "        print('\\n Time taken: %i hours %i minutes and %s seconds.' % (thour, tmin, round(tsec, 2)))"
   ]
  },
  {
   "cell_type": "code",
   "execution_count": 3,
   "metadata": {},
   "outputs": [],
   "source": [
    "def classification_model(model, x_train, x_test, y_train, y_test):\n",
    "    model_ = model\n",
    "    model_.fit(x_train, y_train)\n",
    "    y_hat_test = model_.predict(x_test)\n",
    "    model_y_score = model_.decision_function(x_test)\n",
    "#     model_y_score = model_.predict_proba(x_test)[:, 0]\n",
    "    fpr, tpr, thresholds = metrics.roc_curve(y_test, model_y_score)\n",
    "    return model_, fpr, tpr, thresholds, y_hat_test"
   ]
  },
  {
   "cell_type": "code",
   "execution_count": 4,
   "metadata": {},
   "outputs": [],
   "source": [
    "def Print_confusion_matrix():\n",
    "    cm = confusion_matrix(y_test, y_pred)\n",
    "    print(cm)\n",
    "    true_negative  = cm[0,0]\n",
    "    true_positive  = cm[1,1]\n",
    "    false_negative = cm[1,0]\n",
    "    false_positive = cm[0,1]\n",
    "#     tpr = true_positive/(true_positive + false_negative)\n",
    "#     fpr = false_positive/(false_positive + true_negative)\n",
    "    total = true_negative + true_positive + false_negative + false_positive\n",
    "    accuracy = (true_positive + true_negative)/total\n",
    "    precision = (true_positive)/(true_positive + false_positive)\n",
    "    recall = (true_positive)/(true_positive + false_negative)\n",
    "    misclassification_rate = (false_positive + false_negative)/total\n",
    "    F1 = (2*true_positive)/(2*true_positive + false_positive + false_negative)\n",
    "    print('accuracy.................%7.4f' % accuracy)\n",
    "    print('precision................%7.4f' % precision)\n",
    "    print('recall...................%7.4f' % recall)\n",
    "    print('F1.......................%7.4f' % F1)\n",
    "    print('auc......................%7.4f' % auc(fpr, tpr))"
   ]
  },
  {
   "cell_type": "code",
   "execution_count": 5,
   "metadata": {},
   "outputs": [],
   "source": [
    "def plot_roc_curve(fpr, tpr):\n",
    "    sns.set_style(\"darkgrid\", {\"axes.facecolor\": \".9\"})\n",
    "\n",
    "    print('AUC: {}'.format(metrics.auc(fpr, tpr)))\n",
    "    plt.figure(figsize=(8,6))\n",
    "    lw = 2\n",
    "    plt.plot(fpr, tpr, color='darkorange',\n",
    "             lw=lw, label='ROC curve')\n",
    "    plt.plot([0, 1], [0, 1], color='navy', lw=lw, linestyle='--')\n",
    "    plt.xlim([0.0, 1.0])\n",
    "    plt.ylim([0.0, 1.05])\n",
    "    plt.yticks([i/20.0 for i in range(21)])\n",
    "    plt.xticks([i/20.0 for i in range(21)])\n",
    "    plt.xlabel('False Positive Rate')\n",
    "    plt.ylabel('True Positive Rate')\n",
    "    plt.title('Receiver operating characteristic (ROC) Curve')\n",
    "    plt.legend(loc=\"lower right\")\n",
    "    plt.show()\n",
    "    return"
   ]
  },
  {
   "cell_type": "code",
   "execution_count": 48,
   "metadata": {},
   "outputs": [
    {
     "data": {
      "text/html": [
       "<div>\n",
       "<style scoped>\n",
       "    .dataframe tbody tr th:only-of-type {\n",
       "        vertical-align: middle;\n",
       "    }\n",
       "\n",
       "    .dataframe tbody tr th {\n",
       "        vertical-align: top;\n",
       "    }\n",
       "\n",
       "    .dataframe thead th {\n",
       "        text-align: right;\n",
       "    }\n",
       "</style>\n",
       "<table border=\"1\" class=\"dataframe\">\n",
       "  <thead>\n",
       "    <tr style=\"text-align: right;\">\n",
       "      <th></th>\n",
       "      <th>Unnamed: 0</th>\n",
       "      <th>Month</th>\n",
       "      <th>DayofMonth</th>\n",
       "      <th>Origin</th>\n",
       "      <th>Dest</th>\n",
       "      <th>DepTime</th>\n",
       "      <th>DepDelay</th>\n",
       "      <th>ArrTime</th>\n",
       "      <th>ArrDelay</th>\n",
       "      <th>AirTime</th>\n",
       "      <th>...</th>\n",
       "      <th>FlightNumber</th>\n",
       "      <th>SchedDepartTime</th>\n",
       "      <th>hour</th>\n",
       "      <th>datetime</th>\n",
       "      <th>temp</th>\n",
       "      <th>humidity</th>\n",
       "      <th>wind</th>\n",
       "      <th>pressure</th>\n",
       "      <th>description</th>\n",
       "      <th>hours</th>\n",
       "    </tr>\n",
       "  </thead>\n",
       "  <tbody>\n",
       "    <tr>\n",
       "      <th>0</th>\n",
       "      <td>0</td>\n",
       "      <td>1</td>\n",
       "      <td>1</td>\n",
       "      <td>DFW</td>\n",
       "      <td>SFO</td>\n",
       "      <td>2205.0</td>\n",
       "      <td>-3.0</td>\n",
       "      <td>23.0</td>\n",
       "      <td>25.0</td>\n",
       "      <td>223.0</td>\n",
       "      <td>...</td>\n",
       "      <td>AA499</td>\n",
       "      <td>2208.0</td>\n",
       "      <td>22</td>\n",
       "      <td>2017-01-01 22:00:00</td>\n",
       "      <td>65.01</td>\n",
       "      <td>77.0</td>\n",
       "      <td>2.0</td>\n",
       "      <td>1009.0</td>\n",
       "      <td>broken clouds</td>\n",
       "      <td>22</td>\n",
       "    </tr>\n",
       "    <tr>\n",
       "      <th>1</th>\n",
       "      <td>1</td>\n",
       "      <td>1</td>\n",
       "      <td>1</td>\n",
       "      <td>DFW</td>\n",
       "      <td>LAS</td>\n",
       "      <td>2212.0</td>\n",
       "      <td>9.0</td>\n",
       "      <td>2316.0</td>\n",
       "      <td>18.0</td>\n",
       "      <td>158.0</td>\n",
       "      <td>...</td>\n",
       "      <td>AA576</td>\n",
       "      <td>2203.0</td>\n",
       "      <td>22</td>\n",
       "      <td>2017-01-01 22:00:00</td>\n",
       "      <td>65.01</td>\n",
       "      <td>77.0</td>\n",
       "      <td>2.0</td>\n",
       "      <td>1009.0</td>\n",
       "      <td>broken clouds</td>\n",
       "      <td>22</td>\n",
       "    </tr>\n",
       "    <tr>\n",
       "      <th>2</th>\n",
       "      <td>2</td>\n",
       "      <td>1</td>\n",
       "      <td>1</td>\n",
       "      <td>DFW</td>\n",
       "      <td>RDU</td>\n",
       "      <td>2201.0</td>\n",
       "      <td>96.0</td>\n",
       "      <td>123.0</td>\n",
       "      <td>87.0</td>\n",
       "      <td>128.0</td>\n",
       "      <td>...</td>\n",
       "      <td>AA1606</td>\n",
       "      <td>2105.0</td>\n",
       "      <td>22</td>\n",
       "      <td>2017-01-01 22:00:00</td>\n",
       "      <td>65.01</td>\n",
       "      <td>77.0</td>\n",
       "      <td>2.0</td>\n",
       "      <td>1009.0</td>\n",
       "      <td>broken clouds</td>\n",
       "      <td>22</td>\n",
       "    </tr>\n",
       "  </tbody>\n",
       "</table>\n",
       "<p>3 rows × 21 columns</p>\n",
       "</div>"
      ],
      "text/plain": [
       "   Unnamed: 0  Month  DayofMonth Origin Dest  DepTime  DepDelay  ArrTime  \\\n",
       "0           0      1           1    DFW  SFO   2205.0      -3.0     23.0   \n",
       "1           1      1           1    DFW  LAS   2212.0       9.0   2316.0   \n",
       "2           2      1           1    DFW  RDU   2201.0      96.0    123.0   \n",
       "\n",
       "   ArrDelay  AirTime  ...   FlightNumber SchedDepartTime  hour  \\\n",
       "0      25.0    223.0  ...          AA499          2208.0    22   \n",
       "1      18.0    158.0  ...          AA576          2203.0    22   \n",
       "2      87.0    128.0  ...         AA1606          2105.0    22   \n",
       "\n",
       "              datetime   temp  humidity  wind  pressure    description hours  \n",
       "0  2017-01-01 22:00:00  65.01      77.0   2.0    1009.0  broken clouds    22  \n",
       "1  2017-01-01 22:00:00  65.01      77.0   2.0    1009.0  broken clouds    22  \n",
       "2  2017-01-01 22:00:00  65.01      77.0   2.0    1009.0  broken clouds    22  \n",
       "\n",
       "[3 rows x 21 columns]"
      ]
     },
     "execution_count": 48,
     "metadata": {},
     "output_type": "execute_result"
    }
   ],
   "source": [
    "#read in merged-weather data\n",
    "df = pd.read_csv('merged_flight_weather_df.csv')\n",
    "df.head(3)"
   ]
  },
  {
   "cell_type": "code",
   "execution_count": 49,
   "metadata": {},
   "outputs": [],
   "source": [
    "n_features = len(df.columns)"
   ]
  },
  {
   "cell_type": "code",
   "execution_count": 111,
   "metadata": {},
   "outputs": [],
   "source": [
    "# Model Parameter Grids Ranges\n",
    "\n",
    "#Logistic Regression\n",
    "param_grid1 = {'C': [0.001, 0.01] }\n",
    "\n",
    "#Random Forest\n",
    "param_grid2 = {\"n_estimators\": range(20, 100, 2),\n",
    "                  \"max_depth\": range(4, 40, 2),\n",
    "                  \"min_samples_leaf\": range(2, 100, 2),\n",
    "                  \"max_features\": range(1, n_features+1),\n",
    "                  \"min_samples_split\": range(2, 10),\n",
    "                  \"bootstrap\": [True],\n",
    "                  \"criterion\": [\"gini\", \"entropy\"]}\n",
    "\n",
    "#Gradient Boost\n",
    "param_grid3 = {'n_estimators': [100],\n",
    "                  'learning_rate':[0.1],\n",
    "                  'max_depth': [40]}\n",
    "\n",
    "#XGBoost\n",
    "param_grid4 = {'min_child_weight': [1, 5, 10],\n",
    "                   'learning_rate':[0.001, 0.01,0.1],\n",
    "                   'gamma': [0.5, 1, 1.5, 2, 5],\n",
    "                   'subsample': [0.6, 0.8, 1.0],\n",
    "                   'colsample_bytree': [0.6, 0.8, 1.0],\n",
    "                   'max_depth': [3, 4, 5]}\n",
    "\n",
    "#AdaBoost\n",
    "param_grid5 = {\"base_estimator__criterion\" : [\"gini\", \"entropy\"],\n",
    "                   'learning_rate':[0.001, 0.01],\n",
    "                   \"base_estimator__splitter\" :   [\"best\", \"random\"],\n",
    "                   \"n_estimators\": [1, 2]}"
   ]
  },
  {
   "cell_type": "code",
   "execution_count": 38,
   "metadata": {},
   "outputs": [],
   "source": [
    "def grid_search(clf, param_grid):\n",
    "    global best_model, saved_model\n",
    "    cv = ShuffleSplit(n_splits = 15, test_size = 0.20, random_state = 2)\n",
    "    n_iter_search = 70\n",
    "    estimator = GridSearchCV(clf,\n",
    "                                   param_grid = param_grid,\n",
    "                                   scoring = 'roc_auc',\n",
    "                                   verbose = 0,\n",
    "                                   cv = cv,\n",
    "                                   n_jobs = 3)\n",
    "        \n",
    "    fit = estimator.fit(x_train, y_train)\n",
    "    \n",
    "    best_model = estimator.best_estimator_\n",
    "    print('\\nbest_model:\\n', best_model)\n",
    "\n",
    "#     print('\\nFeature Importances:', best_model.feature_importances_)\n",
    "    \n",
    "    y_predicted = best_model.predict(x_train)\n",
    "    probabilities = best_model.predict_proba(x_test)\n",
    "    y_score = best_model.decision_function(x_test)\n",
    "    fpr, tpr, thresholds = metrics.roc_curve(y_test, y_score)\n",
    "    \n",
    "    plot_roc_curve(fpr, tpr)\n",
    "    \n",
    "    c_report = classification_report(y_train, y_predicted)\n",
    "    print('\\nClassification report:\\n', c_report)\n",
    "    return best_model, fit, probabilities, c_report, fpr, tpr, thresholds\n",
    "    "
   ]
  },
  {
   "cell_type": "code",
   "execution_count": 85,
   "metadata": {},
   "outputs": [],
   "source": [
    "def grid_search2(clf, param_grid):\n",
    "    global best_model, saved_model\n",
    "    cv = ShuffleSplit(n_splits = 15, test_size = 0.20, random_state = 2)\n",
    "    n_iter_search = 70\n",
    "    estimator = GridSearchCV(clf,\n",
    "                                   param_grid = param_grid,\n",
    "                                   scoring = 'roc_auc',\n",
    "                                   verbose = 0,\n",
    "                                   cv = cv,\n",
    "                                   n_jobs = 3)\n",
    "        \n",
    "    fit = estimator.fit(x_resampled, y_resampled)\n",
    "    \n",
    "    best_model1 = estimator.best_estimator_\n",
    "    print('\\nbest_model:\\n', best_model1)\n",
    "\n",
    "#     print('\\nFeature Importances:', best_model.feature_importances_)\n",
    "    \n",
    "    y_predicted = best_model1.predict(x_resampled)\n",
    "    probabilities = best_model1.predict_proba(x_test)\n",
    "    y_score = best_model1.decision_function(x_test)\n",
    "    fpr, tpr, thresholds = metrics.roc_curve(y_test, y_score)\n",
    "    \n",
    "    plot_roc_curve(fpr, tpr)\n",
    "    \n",
    "    c_report = classification_report(y_resampled, y_predicted)\n",
    "    print('\\nClassification report:\\n', c_report)\n",
    "    return best_model1, fit, probabilities, c_report, fpr, tpr, thresholds\n",
    "    "
   ]
  },
  {
   "cell_type": "code",
   "execution_count": 50,
   "metadata": {},
   "outputs": [],
   "source": [
    "df.drop(columns = 'Unnamed: 0', inplace = True)"
   ]
  },
  {
   "cell_type": "code",
   "execution_count": 51,
   "metadata": {},
   "outputs": [],
   "source": [
    "df1 = df[['Month','DayofMonth', 'hour','Origin', 'Dest', 'SchedDepartTime', 'Distance', 'FlightNumber', 'temp', 'humidity', 'wind', 'pressure', 'ArrDelay', 'DepDelay']]"
   ]
  },
  {
   "cell_type": "code",
   "execution_count": 52,
   "metadata": {},
   "outputs": [],
   "source": [
    "#Normalize numeric columns\n",
    "cols_to_norm = ['Distance', 'temp', 'humidity', 'wind', 'pressure', 'ArrDelay']\n",
    "df_norm = df1[cols_to_norm].apply(lambda x: (x - x.min()) / (x.max() - x.min()))"
   ]
  },
  {
   "cell_type": "code",
   "execution_count": 53,
   "metadata": {},
   "outputs": [],
   "source": [
    "df_cat = df1[['Month','DayofMonth', 'hour', 'Origin', 'Dest','SchedDepartTime', 'FlightNumber', 'DepDelay']]"
   ]
  },
  {
   "cell_type": "code",
   "execution_count": 54,
   "metadata": {},
   "outputs": [],
   "source": [
    "df_cat_norm = pd.concat([df_cat, df_norm], axis = 1)"
   ]
  },
  {
   "cell_type": "code",
   "execution_count": 55,
   "metadata": {},
   "outputs": [],
   "source": [
    "df_cat_norm['SchedDep'] = df_cat_norm['SchedDepartTime'] // 100"
   ]
  },
  {
   "cell_type": "code",
   "execution_count": 56,
   "metadata": {},
   "outputs": [],
   "source": [
    "df_cat_norm.drop(columns = 'SchedDepartTime', inplace = True)"
   ]
  },
  {
   "cell_type": "code",
   "execution_count": 57,
   "metadata": {},
   "outputs": [],
   "source": [
    "df_cat_norm.drop(columns = 'hour', inplace = True)"
   ]
  },
  {
   "cell_type": "code",
   "execution_count": 58,
   "metadata": {},
   "outputs": [],
   "source": [
    "df_cat_norm[['Month', 'DayofMonth', 'Origin', 'Dest', 'FlightNumber', 'SchedDep']] = df_cat_norm[['Month', 'DayofMonth', 'Origin', 'Dest', 'FlightNumber', 'SchedDep']].astype('category')"
   ]
  },
  {
   "cell_type": "code",
   "execution_count": 59,
   "metadata": {},
   "outputs": [
    {
     "data": {
      "text/html": [
       "<div>\n",
       "<style scoped>\n",
       "    .dataframe tbody tr th:only-of-type {\n",
       "        vertical-align: middle;\n",
       "    }\n",
       "\n",
       "    .dataframe tbody tr th {\n",
       "        vertical-align: top;\n",
       "    }\n",
       "\n",
       "    .dataframe thead th {\n",
       "        text-align: right;\n",
       "    }\n",
       "</style>\n",
       "<table border=\"1\" class=\"dataframe\">\n",
       "  <thead>\n",
       "    <tr style=\"text-align: right;\">\n",
       "      <th></th>\n",
       "      <th>Month</th>\n",
       "      <th>DayofMonth</th>\n",
       "      <th>Origin</th>\n",
       "      <th>Dest</th>\n",
       "      <th>FlightNumber</th>\n",
       "      <th>DepDelay</th>\n",
       "      <th>Distance</th>\n",
       "      <th>temp</th>\n",
       "      <th>humidity</th>\n",
       "      <th>wind</th>\n",
       "      <th>pressure</th>\n",
       "      <th>ArrDelay</th>\n",
       "      <th>SchedDep</th>\n",
       "    </tr>\n",
       "  </thead>\n",
       "  <tbody>\n",
       "    <tr>\n",
       "      <th>0</th>\n",
       "      <td>1</td>\n",
       "      <td>1</td>\n",
       "      <td>DFW</td>\n",
       "      <td>SFO</td>\n",
       "      <td>AA499</td>\n",
       "      <td>-3.0</td>\n",
       "      <td>0.284174</td>\n",
       "      <td>0.630994</td>\n",
       "      <td>0.757895</td>\n",
       "      <td>0.111111</td>\n",
       "      <td>0.663366</td>\n",
       "      <td>0.075137</td>\n",
       "      <td>22.0</td>\n",
       "    </tr>\n",
       "    <tr>\n",
       "      <th>1</th>\n",
       "      <td>1</td>\n",
       "      <td>1</td>\n",
       "      <td>DFW</td>\n",
       "      <td>LAS</td>\n",
       "      <td>AA576</td>\n",
       "      <td>9.0</td>\n",
       "      <td>0.200976</td>\n",
       "      <td>0.630994</td>\n",
       "      <td>0.757895</td>\n",
       "      <td>0.111111</td>\n",
       "      <td>0.663366</td>\n",
       "      <td>0.070861</td>\n",
       "      <td>22.0</td>\n",
       "    </tr>\n",
       "    <tr>\n",
       "      <th>2</th>\n",
       "      <td>1</td>\n",
       "      <td>1</td>\n",
       "      <td>DFW</td>\n",
       "      <td>RDU</td>\n",
       "      <td>AA1606</td>\n",
       "      <td>96.0</td>\n",
       "      <td>0.202197</td>\n",
       "      <td>0.630994</td>\n",
       "      <td>0.757895</td>\n",
       "      <td>0.111111</td>\n",
       "      <td>0.663366</td>\n",
       "      <td>0.113012</td>\n",
       "      <td>21.0</td>\n",
       "    </tr>\n",
       "  </tbody>\n",
       "</table>\n",
       "</div>"
      ],
      "text/plain": [
       "  Month DayofMonth Origin Dest FlightNumber  DepDelay  Distance      temp  \\\n",
       "0     1          1    DFW  SFO        AA499      -3.0  0.284174  0.630994   \n",
       "1     1          1    DFW  LAS        AA576       9.0  0.200976  0.630994   \n",
       "2     1          1    DFW  RDU       AA1606      96.0  0.202197  0.630994   \n",
       "\n",
       "   humidity      wind  pressure  ArrDelay SchedDep  \n",
       "0  0.757895  0.111111  0.663366  0.075137     22.0  \n",
       "1  0.757895  0.111111  0.663366  0.070861     22.0  \n",
       "2  0.757895  0.111111  0.663366  0.113012     21.0  "
      ]
     },
     "execution_count": 59,
     "metadata": {},
     "output_type": "execute_result"
    }
   ],
   "source": [
    "df_cat_norm.head(3)"
   ]
  },
  {
   "cell_type": "code",
   "execution_count": 60,
   "metadata": {},
   "outputs": [],
   "source": [
    "df_cat_norm = df_cat_norm[(df_cat_norm['Dest'] == 'DFW') | (df_cat_norm['Dest'] == 'LAX') | (df_cat_norm['Dest'] == 'JFK') | (df_cat_norm['Dest'] == 'MIA') | (df_cat_norm['Dest'] == 'ORD')]"
   ]
  },
  {
   "cell_type": "code",
   "execution_count": 61,
   "metadata": {},
   "outputs": [
    {
     "data": {
      "text/plain": [
       "(84866, 13)"
      ]
     },
     "execution_count": 61,
     "metadata": {},
     "output_type": "execute_result"
    }
   ],
   "source": [
    "df_cat_norm.shape"
   ]
  },
  {
   "cell_type": "code",
   "execution_count": 62,
   "metadata": {
    "scrolled": false
   },
   "outputs": [],
   "source": [
    "# target = df_cat_norm['DepDelay']\n",
    "# df_cat_norm.drop(columns = 'DepDelay', inplace = True)\n"
   ]
  },
  {
   "cell_type": "code",
   "execution_count": 65,
   "metadata": {},
   "outputs": [],
   "source": [
    "test = df_cat_norm[(df_cat_norm['Month'] == 9) | (df_cat_norm['Month'] == 10)]"
   ]
  },
  {
   "cell_type": "code",
   "execution_count": 66,
   "metadata": {
    "scrolled": true
   },
   "outputs": [
    {
     "data": {
      "text/html": [
       "<div>\n",
       "<style scoped>\n",
       "    .dataframe tbody tr th:only-of-type {\n",
       "        vertical-align: middle;\n",
       "    }\n",
       "\n",
       "    .dataframe tbody tr th {\n",
       "        vertical-align: top;\n",
       "    }\n",
       "\n",
       "    .dataframe thead th {\n",
       "        text-align: right;\n",
       "    }\n",
       "</style>\n",
       "<table border=\"1\" class=\"dataframe\">\n",
       "  <thead>\n",
       "    <tr style=\"text-align: right;\">\n",
       "      <th></th>\n",
       "      <th>Month</th>\n",
       "      <th>DayofMonth</th>\n",
       "      <th>Origin</th>\n",
       "      <th>Dest</th>\n",
       "      <th>FlightNumber</th>\n",
       "      <th>DepDelay</th>\n",
       "      <th>Distance</th>\n",
       "      <th>temp</th>\n",
       "      <th>humidity</th>\n",
       "      <th>wind</th>\n",
       "      <th>pressure</th>\n",
       "      <th>ArrDelay</th>\n",
       "      <th>SchedDep</th>\n",
       "    </tr>\n",
       "  </thead>\n",
       "  <tbody>\n",
       "    <tr>\n",
       "      <th>545728</th>\n",
       "      <td>9</td>\n",
       "      <td>1</td>\n",
       "      <td>LAX</td>\n",
       "      <td>ORD</td>\n",
       "      <td>UA269</td>\n",
       "      <td>0.0</td>\n",
       "      <td>0.341131</td>\n",
       "      <td>0.723684</td>\n",
       "      <td>0.873684</td>\n",
       "      <td>0.0</td>\n",
       "      <td>0.653465</td>\n",
       "      <td>0.055589</td>\n",
       "      <td>12.0</td>\n",
       "    </tr>\n",
       "    <tr>\n",
       "      <th>545735</th>\n",
       "      <td>9</td>\n",
       "      <td>1</td>\n",
       "      <td>LAX</td>\n",
       "      <td>JFK</td>\n",
       "      <td>AA34</td>\n",
       "      <td>-3.0</td>\n",
       "      <td>0.489829</td>\n",
       "      <td>0.723684</td>\n",
       "      <td>0.873684</td>\n",
       "      <td>0.0</td>\n",
       "      <td>0.653465</td>\n",
       "      <td>0.059255</td>\n",
       "      <td>12.0</td>\n",
       "    </tr>\n",
       "    <tr>\n",
       "      <th>545738</th>\n",
       "      <td>9</td>\n",
       "      <td>1</td>\n",
       "      <td>LAX</td>\n",
       "      <td>DFW</td>\n",
       "      <td>AA431</td>\n",
       "      <td>-4.0</td>\n",
       "      <td>0.237592</td>\n",
       "      <td>0.723684</td>\n",
       "      <td>0.873684</td>\n",
       "      <td>0.0</td>\n",
       "      <td>0.653465</td>\n",
       "      <td>0.053757</td>\n",
       "      <td>12.0</td>\n",
       "    </tr>\n",
       "    <tr>\n",
       "      <th>545750</th>\n",
       "      <td>9</td>\n",
       "      <td>1</td>\n",
       "      <td>LAX</td>\n",
       "      <td>JFK</td>\n",
       "      <td>DL473</td>\n",
       "      <td>-5.0</td>\n",
       "      <td>0.489829</td>\n",
       "      <td>0.723684</td>\n",
       "      <td>0.873684</td>\n",
       "      <td>0.0</td>\n",
       "      <td>0.653465</td>\n",
       "      <td>0.057422</td>\n",
       "      <td>12.0</td>\n",
       "    </tr>\n",
       "    <tr>\n",
       "      <th>545757</th>\n",
       "      <td>9</td>\n",
       "      <td>1</td>\n",
       "      <td>LAX</td>\n",
       "      <td>JFK</td>\n",
       "      <td>B6424</td>\n",
       "      <td>-5.0</td>\n",
       "      <td>0.489829</td>\n",
       "      <td>0.723684</td>\n",
       "      <td>0.873684</td>\n",
       "      <td>0.0</td>\n",
       "      <td>0.653465</td>\n",
       "      <td>0.054979</td>\n",
       "      <td>12.0</td>\n",
       "    </tr>\n",
       "  </tbody>\n",
       "</table>\n",
       "</div>"
      ],
      "text/plain": [
       "       Month DayofMonth Origin Dest FlightNumber  DepDelay  Distance  \\\n",
       "545728     9          1    LAX  ORD        UA269       0.0  0.341131   \n",
       "545735     9          1    LAX  JFK         AA34      -3.0  0.489829   \n",
       "545738     9          1    LAX  DFW        AA431      -4.0  0.237592   \n",
       "545750     9          1    LAX  JFK        DL473      -5.0  0.489829   \n",
       "545757     9          1    LAX  JFK        B6424      -5.0  0.489829   \n",
       "\n",
       "            temp  humidity  wind  pressure  ArrDelay SchedDep  \n",
       "545728  0.723684  0.873684   0.0  0.653465  0.055589     12.0  \n",
       "545735  0.723684  0.873684   0.0  0.653465  0.059255     12.0  \n",
       "545738  0.723684  0.873684   0.0  0.653465  0.053757     12.0  \n",
       "545750  0.723684  0.873684   0.0  0.653465  0.057422     12.0  \n",
       "545757  0.723684  0.873684   0.0  0.653465  0.054979     12.0  "
      ]
     },
     "execution_count": 66,
     "metadata": {},
     "output_type": "execute_result"
    }
   ],
   "source": [
    "test.head()"
   ]
  },
  {
   "cell_type": "code",
   "execution_count": 67,
   "metadata": {
    "scrolled": true
   },
   "outputs": [
    {
     "name": "stderr",
     "output_type": "stream",
     "text": [
      "/Users/shachiakyaagba/anaconda3/lib/python3.6/site-packages/ipykernel_launcher.py:1: SettingWithCopyWarning: \n",
      "A value is trying to be set on a copy of a slice from a DataFrame\n",
      "\n",
      "See the caveats in the documentation: http://pandas.pydata.org/pandas-docs/stable/indexing.html#indexing-view-versus-copy\n",
      "  \"\"\"Entry point for launching an IPython kernel.\n"
     ]
    }
   ],
   "source": [
    "test.dropna(inplace = True)"
   ]
  },
  {
   "cell_type": "code",
   "execution_count": 68,
   "metadata": {},
   "outputs": [
    {
     "data": {
      "text/html": [
       "<div>\n",
       "<style scoped>\n",
       "    .dataframe tbody tr th:only-of-type {\n",
       "        vertical-align: middle;\n",
       "    }\n",
       "\n",
       "    .dataframe tbody tr th {\n",
       "        vertical-align: top;\n",
       "    }\n",
       "\n",
       "    .dataframe thead th {\n",
       "        text-align: right;\n",
       "    }\n",
       "</style>\n",
       "<table border=\"1\" class=\"dataframe\">\n",
       "  <thead>\n",
       "    <tr style=\"text-align: right;\">\n",
       "      <th></th>\n",
       "      <th>Month</th>\n",
       "      <th>DayofMonth</th>\n",
       "      <th>Origin</th>\n",
       "      <th>Dest</th>\n",
       "      <th>FlightNumber</th>\n",
       "      <th>DepDelay</th>\n",
       "      <th>Distance</th>\n",
       "      <th>temp</th>\n",
       "      <th>humidity</th>\n",
       "      <th>wind</th>\n",
       "      <th>pressure</th>\n",
       "      <th>ArrDelay</th>\n",
       "      <th>SchedDep</th>\n",
       "    </tr>\n",
       "  </thead>\n",
       "  <tbody>\n",
       "    <tr>\n",
       "      <th>545728</th>\n",
       "      <td>9</td>\n",
       "      <td>1</td>\n",
       "      <td>LAX</td>\n",
       "      <td>ORD</td>\n",
       "      <td>UA269</td>\n",
       "      <td>0.0</td>\n",
       "      <td>0.341131</td>\n",
       "      <td>0.723684</td>\n",
       "      <td>0.873684</td>\n",
       "      <td>0.0</td>\n",
       "      <td>0.653465</td>\n",
       "      <td>0.055589</td>\n",
       "      <td>12.0</td>\n",
       "    </tr>\n",
       "    <tr>\n",
       "      <th>545735</th>\n",
       "      <td>9</td>\n",
       "      <td>1</td>\n",
       "      <td>LAX</td>\n",
       "      <td>JFK</td>\n",
       "      <td>AA34</td>\n",
       "      <td>-3.0</td>\n",
       "      <td>0.489829</td>\n",
       "      <td>0.723684</td>\n",
       "      <td>0.873684</td>\n",
       "      <td>0.0</td>\n",
       "      <td>0.653465</td>\n",
       "      <td>0.059255</td>\n",
       "      <td>12.0</td>\n",
       "    </tr>\n",
       "    <tr>\n",
       "      <th>545738</th>\n",
       "      <td>9</td>\n",
       "      <td>1</td>\n",
       "      <td>LAX</td>\n",
       "      <td>DFW</td>\n",
       "      <td>AA431</td>\n",
       "      <td>-4.0</td>\n",
       "      <td>0.237592</td>\n",
       "      <td>0.723684</td>\n",
       "      <td>0.873684</td>\n",
       "      <td>0.0</td>\n",
       "      <td>0.653465</td>\n",
       "      <td>0.053757</td>\n",
       "      <td>12.0</td>\n",
       "    </tr>\n",
       "    <tr>\n",
       "      <th>545750</th>\n",
       "      <td>9</td>\n",
       "      <td>1</td>\n",
       "      <td>LAX</td>\n",
       "      <td>JFK</td>\n",
       "      <td>DL473</td>\n",
       "      <td>-5.0</td>\n",
       "      <td>0.489829</td>\n",
       "      <td>0.723684</td>\n",
       "      <td>0.873684</td>\n",
       "      <td>0.0</td>\n",
       "      <td>0.653465</td>\n",
       "      <td>0.057422</td>\n",
       "      <td>12.0</td>\n",
       "    </tr>\n",
       "    <tr>\n",
       "      <th>545757</th>\n",
       "      <td>9</td>\n",
       "      <td>1</td>\n",
       "      <td>LAX</td>\n",
       "      <td>JFK</td>\n",
       "      <td>B6424</td>\n",
       "      <td>-5.0</td>\n",
       "      <td>0.489829</td>\n",
       "      <td>0.723684</td>\n",
       "      <td>0.873684</td>\n",
       "      <td>0.0</td>\n",
       "      <td>0.653465</td>\n",
       "      <td>0.054979</td>\n",
       "      <td>12.0</td>\n",
       "    </tr>\n",
       "  </tbody>\n",
       "</table>\n",
       "</div>"
      ],
      "text/plain": [
       "       Month DayofMonth Origin Dest FlightNumber  DepDelay  Distance  \\\n",
       "545728     9          1    LAX  ORD        UA269       0.0  0.341131   \n",
       "545735     9          1    LAX  JFK         AA34      -3.0  0.489829   \n",
       "545738     9          1    LAX  DFW        AA431      -4.0  0.237592   \n",
       "545750     9          1    LAX  JFK        DL473      -5.0  0.489829   \n",
       "545757     9          1    LAX  JFK        B6424      -5.0  0.489829   \n",
       "\n",
       "            temp  humidity  wind  pressure  ArrDelay SchedDep  \n",
       "545728  0.723684  0.873684   0.0  0.653465  0.055589     12.0  \n",
       "545735  0.723684  0.873684   0.0  0.653465  0.059255     12.0  \n",
       "545738  0.723684  0.873684   0.0  0.653465  0.053757     12.0  \n",
       "545750  0.723684  0.873684   0.0  0.653465  0.057422     12.0  \n",
       "545757  0.723684  0.873684   0.0  0.653465  0.054979     12.0  "
      ]
     },
     "execution_count": 68,
     "metadata": {},
     "output_type": "execute_result"
    }
   ],
   "source": [
    "test.head()"
   ]
  },
  {
   "cell_type": "code",
   "execution_count": 69,
   "metadata": {},
   "outputs": [],
   "source": [
    "y_test = test['DepDelay']\n",
    "x_test = test.drop(columns= 'DepDelay')"
   ]
  },
  {
   "cell_type": "code",
   "execution_count": 70,
   "metadata": {},
   "outputs": [],
   "source": [
    "train = df_cat_norm[(df_cat_norm['Month'] != 9) & (df_cat_norm['Month'] != 10)]"
   ]
  },
  {
   "cell_type": "code",
   "execution_count": 71,
   "metadata": {
    "scrolled": true
   },
   "outputs": [
    {
     "name": "stderr",
     "output_type": "stream",
     "text": [
      "/Users/shachiakyaagba/anaconda3/lib/python3.6/site-packages/ipykernel_launcher.py:1: SettingWithCopyWarning: \n",
      "A value is trying to be set on a copy of a slice from a DataFrame\n",
      "\n",
      "See the caveats in the documentation: http://pandas.pydata.org/pandas-docs/stable/indexing.html#indexing-view-versus-copy\n",
      "  \"\"\"Entry point for launching an IPython kernel.\n"
     ]
    }
   ],
   "source": [
    "train.dropna(inplace = True)"
   ]
  },
  {
   "cell_type": "code",
   "execution_count": 72,
   "metadata": {},
   "outputs": [
    {
     "data": {
      "text/html": [
       "<div>\n",
       "<style scoped>\n",
       "    .dataframe tbody tr th:only-of-type {\n",
       "        vertical-align: middle;\n",
       "    }\n",
       "\n",
       "    .dataframe tbody tr th {\n",
       "        vertical-align: top;\n",
       "    }\n",
       "\n",
       "    .dataframe thead th {\n",
       "        text-align: right;\n",
       "    }\n",
       "</style>\n",
       "<table border=\"1\" class=\"dataframe\">\n",
       "  <thead>\n",
       "    <tr style=\"text-align: right;\">\n",
       "      <th></th>\n",
       "      <th>Month</th>\n",
       "      <th>DayofMonth</th>\n",
       "      <th>Origin</th>\n",
       "      <th>Dest</th>\n",
       "      <th>FlightNumber</th>\n",
       "      <th>DepDelay</th>\n",
       "      <th>Distance</th>\n",
       "      <th>temp</th>\n",
       "      <th>humidity</th>\n",
       "      <th>wind</th>\n",
       "      <th>pressure</th>\n",
       "      <th>ArrDelay</th>\n",
       "      <th>SchedDep</th>\n",
       "    </tr>\n",
       "  </thead>\n",
       "  <tbody>\n",
       "    <tr>\n",
       "      <th>7</th>\n",
       "      <td>1</td>\n",
       "      <td>1</td>\n",
       "      <td>DFW</td>\n",
       "      <td>MIA</td>\n",
       "      <td>AA2329</td>\n",
       "      <td>84.0</td>\n",
       "      <td>0.214402</td>\n",
       "      <td>0.630994</td>\n",
       "      <td>0.757895</td>\n",
       "      <td>0.111111</td>\n",
       "      <td>0.663366</td>\n",
       "      <td>0.104459</td>\n",
       "      <td>21.0</td>\n",
       "    </tr>\n",
       "    <tr>\n",
       "      <th>18</th>\n",
       "      <td>1</td>\n",
       "      <td>1</td>\n",
       "      <td>DFW</td>\n",
       "      <td>LAX</td>\n",
       "      <td>AA1023</td>\n",
       "      <td>6.0</td>\n",
       "      <td>0.237592</td>\n",
       "      <td>0.630994</td>\n",
       "      <td>0.757895</td>\n",
       "      <td>0.111111</td>\n",
       "      <td>0.663366</td>\n",
       "      <td>0.065363</td>\n",
       "      <td>22.0</td>\n",
       "    </tr>\n",
       "    <tr>\n",
       "      <th>19</th>\n",
       "      <td>1</td>\n",
       "      <td>1</td>\n",
       "      <td>DFW</td>\n",
       "      <td>ORD</td>\n",
       "      <td>AA1040</td>\n",
       "      <td>90.0</td>\n",
       "      <td>0.149512</td>\n",
       "      <td>0.630994</td>\n",
       "      <td>0.757895</td>\n",
       "      <td>0.111111</td>\n",
       "      <td>0.663366</td>\n",
       "      <td>0.105070</td>\n",
       "      <td>21.0</td>\n",
       "    </tr>\n",
       "    <tr>\n",
       "      <th>21</th>\n",
       "      <td>1</td>\n",
       "      <td>1</td>\n",
       "      <td>DFW</td>\n",
       "      <td>ORD</td>\n",
       "      <td>AA2525</td>\n",
       "      <td>-7.0</td>\n",
       "      <td>0.149512</td>\n",
       "      <td>0.630994</td>\n",
       "      <td>0.757895</td>\n",
       "      <td>0.111111</td>\n",
       "      <td>0.663366</td>\n",
       "      <td>0.041539</td>\n",
       "      <td>22.0</td>\n",
       "    </tr>\n",
       "    <tr>\n",
       "      <th>49</th>\n",
       "      <td>1</td>\n",
       "      <td>1</td>\n",
       "      <td>LAX</td>\n",
       "      <td>ORD</td>\n",
       "      <td>AA2576</td>\n",
       "      <td>87.0</td>\n",
       "      <td>0.341131</td>\n",
       "      <td>0.461209</td>\n",
       "      <td>0.800000</td>\n",
       "      <td>0.166667</td>\n",
       "      <td>0.712871</td>\n",
       "      <td>0.095296</td>\n",
       "      <td>17.0</td>\n",
       "    </tr>\n",
       "  </tbody>\n",
       "</table>\n",
       "</div>"
      ],
      "text/plain": [
       "   Month DayofMonth Origin Dest FlightNumber  DepDelay  Distance      temp  \\\n",
       "7      1          1    DFW  MIA       AA2329      84.0  0.214402  0.630994   \n",
       "18     1          1    DFW  LAX       AA1023       6.0  0.237592  0.630994   \n",
       "19     1          1    DFW  ORD       AA1040      90.0  0.149512  0.630994   \n",
       "21     1          1    DFW  ORD       AA2525      -7.0  0.149512  0.630994   \n",
       "49     1          1    LAX  ORD       AA2576      87.0  0.341131  0.461209   \n",
       "\n",
       "    humidity      wind  pressure  ArrDelay SchedDep  \n",
       "7   0.757895  0.111111  0.663366  0.104459     21.0  \n",
       "18  0.757895  0.111111  0.663366  0.065363     22.0  \n",
       "19  0.757895  0.111111  0.663366  0.105070     21.0  \n",
       "21  0.757895  0.111111  0.663366  0.041539     22.0  \n",
       "49  0.800000  0.166667  0.712871  0.095296     17.0  "
      ]
     },
     "execution_count": 72,
     "metadata": {},
     "output_type": "execute_result"
    }
   ],
   "source": [
    "train.head()"
   ]
  },
  {
   "cell_type": "code",
   "execution_count": 73,
   "metadata": {},
   "outputs": [],
   "source": [
    "y_train = train['DepDelay']\n",
    "x_train = train.drop(columns='DepDelay')"
   ]
  },
  {
   "cell_type": "code",
   "execution_count": 74,
   "metadata": {},
   "outputs": [],
   "source": [
    "def delay(y_train):\n",
    "    if y_train > 15:\n",
    "        return 1\n",
    "    else:\n",
    "        return 0"
   ]
  },
  {
   "cell_type": "code",
   "execution_count": 75,
   "metadata": {},
   "outputs": [],
   "source": [
    "def delay2(y_test):\n",
    "    if y_test > 15:\n",
    "        return 1\n",
    "    else:\n",
    "        return 0"
   ]
  },
  {
   "cell_type": "code",
   "execution_count": 76,
   "metadata": {},
   "outputs": [],
   "source": [
    "y_train = y_train.apply(delay)"
   ]
  },
  {
   "cell_type": "code",
   "execution_count": 77,
   "metadata": {},
   "outputs": [],
   "source": [
    "y_test = y_test.apply(delay2)"
   ]
  },
  {
   "cell_type": "code",
   "execution_count": 78,
   "metadata": {
    "scrolled": true
   },
   "outputs": [],
   "source": [
    "x_train = pd.get_dummies(x_train, columns = ['Month', 'DayofMonth', 'Origin', 'Dest', 'FlightNumber', 'SchedDep'])"
   ]
  },
  {
   "cell_type": "code",
   "execution_count": 79,
   "metadata": {
    "scrolled": true
   },
   "outputs": [],
   "source": [
    "x_test = pd.get_dummies(x_test, columns = ['Month', 'DayofMonth', 'Origin', 'Dest', 'FlightNumber', 'SchedDep'])"
   ]
  },
  {
   "cell_type": "markdown",
   "metadata": {},
   "source": [
    "## Random Forest Classifier"
   ]
  },
  {
   "cell_type": "code",
   "execution_count": null,
   "metadata": {},
   "outputs": [],
   "source": []
  },
  {
   "cell_type": "code",
   "execution_count": null,
   "metadata": {},
   "outputs": [],
   "source": []
  },
  {
   "cell_type": "code",
   "execution_count": null,
   "metadata": {},
   "outputs": [],
   "source": []
  },
  {
   "cell_type": "markdown",
   "metadata": {},
   "source": [
    "## Logistic Regression (has decision function)"
   ]
  },
  {
   "cell_type": "code",
   "execution_count": 80,
   "metadata": {
    "scrolled": false
   },
   "outputs": [
    {
     "name": "stdout",
     "output_type": "stream",
     "text": [
      "\n",
      "best_model:\n",
      " LogisticRegression(C=0.01, class_weight='balanced', dual=False,\n",
      "          fit_intercept=True, intercept_scaling=1, max_iter=100,\n",
      "          multi_class='ovr', n_jobs=1, penalty='l2', random_state=None,\n",
      "          solver='liblinear', tol=0.0001, verbose=0, warm_start=False)\n",
      "AUC: 0.7491737138392103\n"
     ]
    },
    {
     "data": {
      "image/png": "[encoded data removed]",
      "text/plain": [
       "<Figure size 576x432 with 1 Axes>"
      ]
     },
     "metadata": {},
     "output_type": "display_data"
    },
    {
     "name": "stdout",
     "output_type": "stream",
     "text": [
      "\n",
      "Classification report:\n",
      "              precision    recall  f1-score   support\n",
      "\n",
      "          0       0.89      0.68      0.77     52637\n",
      "          1       0.41      0.72      0.53     16152\n",
      "\n",
      "avg / total       0.78      0.69      0.72     68789\n",
      "\n",
      "\n",
      " Time taken: 0 hours 17 minutes and 30.28 seconds.\n"
     ]
    }
   ],
   "source": [
    "start_time = timer(None)\n",
    "grid_search(LogisticRegression(class_weight = 'balanced'), param_grid1)\n",
    "timer(start_time)"
   ]
  },
  {
   "cell_type": "code",
   "execution_count": 90,
   "metadata": {},
   "outputs": [
    {
     "data": {
      "text/plain": [
       "LogisticRegression(C=0.01, class_weight='balanced', dual=False,\n",
       "          fit_intercept=True, intercept_scaling=1, max_iter=100,\n",
       "          multi_class='ovr', n_jobs=1, penalty='l2', random_state=None,\n",
       "          solver='liblinear', tol=0.0001, verbose=0, warm_start=False)"
      ]
     },
     "execution_count": 90,
     "metadata": {},
     "output_type": "execute_result"
    }
   ],
   "source": [
    "best_model"
   ]
  },
  {
   "cell_type": "code",
   "execution_count": 107,
   "metadata": {},
   "outputs": [],
   "source": [
    "file = open('logistic_pickle1','wb')"
   ]
  },
  {
   "cell_type": "code",
   "execution_count": 108,
   "metadata": {},
   "outputs": [],
   "source": [
    "import pickle"
   ]
  },
  {
   "cell_type": "code",
   "execution_count": 109,
   "metadata": {},
   "outputs": [],
   "source": [
    "pickle.dump(best_model, file)"
   ]
  },
  {
   "cell_type": "code",
   "execution_count": 110,
   "metadata": {},
   "outputs": [],
   "source": [
    "file.close()"
   ]
  },
  {
   "cell_type": "markdown",
   "metadata": {},
   "source": [
    "## SMOTE"
   ]
  },
  {
   "cell_type": "code",
   "execution_count": 84,
   "metadata": {},
   "outputs": [
    {
     "name": "stdout",
     "output_type": "stream",
     "text": [
      "0    52637\n",
      "1    16152\n",
      "Name: DepDelay, dtype: int64\n"
     ]
    },
    {
     "name": "stderr",
     "output_type": "stream",
     "text": [
      "/Users/shachiakyaagba/anaconda3/lib/python3.6/site-packages/sklearn/utils/deprecation.py:77: DeprecationWarning: Function _ratio_float is deprecated; Use a float for 'ratio' is deprecated from version 0.2. The support will be removed in 0.4. Use a dict, str, or a callable instead.\n",
      "  warnings.warn(msg, category=DeprecationWarning)\n"
     ]
    },
    {
     "name": "stdout",
     "output_type": "stream",
     "text": [
      "0    52637\n",
      "1    21054\n",
      "dtype: int64\n"
     ]
    }
   ],
   "source": [
    "from imblearn.over_sampling import SMOTE, ADASYN\n",
    "print(y_train.value_counts()) #Previous original class distribution\n",
    "x_resampled, y_resampled = SMOTE(ratio=.4).fit_sample(x_train,y_train)\n",
    "print(pd.Series(y_resampled).value_counts()) #Preview synthetic sample class distribution"
   ]
  },
  {
   "cell_type": "markdown",
   "metadata": {},
   "source": [
    "## GradientBoostClassifier (has decision function)"
   ]
  },
  {
   "cell_type": "code",
   "execution_count": 113,
   "metadata": {},
   "outputs": [
    {
     "ename": "KeyboardInterrupt",
     "evalue": "",
     "output_type": "error",
     "traceback": [
      "\u001b[0;31m---------------------------------------------------------------------------\u001b[0m",
      "\u001b[0;31mKeyboardInterrupt\u001b[0m                         Traceback (most recent call last)",
      "\u001b[0;32m<ipython-input-113-8f319d5e1c42>\u001b[0m in \u001b[0;36m<module>\u001b[0;34m()\u001b[0m\n\u001b[1;32m      1\u001b[0m \u001b[0mstart_time\u001b[0m \u001b[0;34m=\u001b[0m \u001b[0mtimer\u001b[0m\u001b[0;34m(\u001b[0m\u001b[0;32mNone\u001b[0m\u001b[0;34m)\u001b[0m\u001b[0;34m\u001b[0m\u001b[0m\n\u001b[0;32m----> 2\u001b[0;31m \u001b[0mgrid_search2\u001b[0m\u001b[0;34m(\u001b[0m\u001b[0mGradientBoostingClassifier\u001b[0m\u001b[0;34m(\u001b[0m\u001b[0;34m)\u001b[0m\u001b[0;34m,\u001b[0m \u001b[0mparam_grid3\u001b[0m\u001b[0;34m)\u001b[0m\u001b[0;34m\u001b[0m\u001b[0m\n\u001b[0m\u001b[1;32m      3\u001b[0m \u001b[0mtimer\u001b[0m\u001b[0;34m(\u001b[0m\u001b[0mstart_time\u001b[0m\u001b[0;34m)\u001b[0m\u001b[0;34m\u001b[0m\u001b[0m\n",
      "\u001b[0;32m<ipython-input-85-5047931c9fc6>\u001b[0m in \u001b[0;36mgrid_search2\u001b[0;34m(clf, param_grid)\u001b[0m\n\u001b[1;32m     10\u001b[0m                                    n_jobs = 3)\n\u001b[1;32m     11\u001b[0m \u001b[0;34m\u001b[0m\u001b[0m\n\u001b[0;32m---> 12\u001b[0;31m     \u001b[0mfit\u001b[0m \u001b[0;34m=\u001b[0m \u001b[0mestimator\u001b[0m\u001b[0;34m.\u001b[0m\u001b[0mfit\u001b[0m\u001b[0;34m(\u001b[0m\u001b[0mx_resampled\u001b[0m\u001b[0;34m,\u001b[0m \u001b[0my_resampled\u001b[0m\u001b[0;34m)\u001b[0m\u001b[0;34m\u001b[0m\u001b[0m\n\u001b[0m\u001b[1;32m     13\u001b[0m \u001b[0;34m\u001b[0m\u001b[0m\n\u001b[1;32m     14\u001b[0m     \u001b[0mbest_model1\u001b[0m \u001b[0;34m=\u001b[0m \u001b[0mestimator\u001b[0m\u001b[0;34m.\u001b[0m\u001b[0mbest_estimator_\u001b[0m\u001b[0;34m\u001b[0m\u001b[0m\n",
      "\u001b[0;32m~/anaconda3/lib/python3.6/site-packages/sklearn/model_selection/_search.py\u001b[0m in \u001b[0;36mfit\u001b[0;34m(self, X, y, groups, **fit_params)\u001b[0m\n\u001b[1;32m    637\u001b[0m                                   error_score=self.error_score)\n\u001b[1;32m    638\u001b[0m           for parameters, (train, test) in product(candidate_params,\n\u001b[0;32m--> 639\u001b[0;31m                                                    cv.split(X, y, groups)))\n\u001b[0m\u001b[1;32m    640\u001b[0m \u001b[0;34m\u001b[0m\u001b[0m\n\u001b[1;32m    641\u001b[0m         \u001b[0;31m# if one choose to see train score, \"out\" will contain train score info\u001b[0m\u001b[0;34m\u001b[0m\u001b[0;34m\u001b[0m\u001b[0m\n",
      "\u001b[0;32m~/anaconda3/lib/python3.6/site-packages/sklearn/externals/joblib/parallel.py\u001b[0m in \u001b[0;36m__call__\u001b[0;34m(self, iterable)\u001b[0m\n\u001b[1;32m    787\u001b[0m                 \u001b[0;31m# consumption.\u001b[0m\u001b[0;34m\u001b[0m\u001b[0;34m\u001b[0m\u001b[0m\n\u001b[1;32m    788\u001b[0m                 \u001b[0mself\u001b[0m\u001b[0;34m.\u001b[0m\u001b[0m_iterating\u001b[0m \u001b[0;34m=\u001b[0m \u001b[0;32mFalse\u001b[0m\u001b[0;34m\u001b[0m\u001b[0m\n\u001b[0;32m--> 789\u001b[0;31m             \u001b[0mself\u001b[0m\u001b[0;34m.\u001b[0m\u001b[0mretrieve\u001b[0m\u001b[0;34m(\u001b[0m\u001b[0;34m)\u001b[0m\u001b[0;34m\u001b[0m\u001b[0m\n\u001b[0m\u001b[1;32m    790\u001b[0m             \u001b[0;31m# Make sure that we get a last message telling us we are done\u001b[0m\u001b[0;34m\u001b[0m\u001b[0;34m\u001b[0m\u001b[0m\n\u001b[1;32m    791\u001b[0m             \u001b[0melapsed_time\u001b[0m \u001b[0;34m=\u001b[0m \u001b[0mtime\u001b[0m\u001b[0;34m.\u001b[0m\u001b[0mtime\u001b[0m\u001b[0;34m(\u001b[0m\u001b[0;34m)\u001b[0m \u001b[0;34m-\u001b[0m \u001b[0mself\u001b[0m\u001b[0;34m.\u001b[0m\u001b[0m_start_time\u001b[0m\u001b[0;34m\u001b[0m\u001b[0m\n",
      "\u001b[0;32m~/anaconda3/lib/python3.6/site-packages/sklearn/externals/joblib/parallel.py\u001b[0m in \u001b[0;36mretrieve\u001b[0;34m(self)\u001b[0m\n\u001b[1;32m    697\u001b[0m             \u001b[0;32mtry\u001b[0m\u001b[0;34m:\u001b[0m\u001b[0;34m\u001b[0m\u001b[0m\n\u001b[1;32m    698\u001b[0m                 \u001b[0;32mif\u001b[0m \u001b[0mgetattr\u001b[0m\u001b[0;34m(\u001b[0m\u001b[0mself\u001b[0m\u001b[0;34m.\u001b[0m\u001b[0m_backend\u001b[0m\u001b[0;34m,\u001b[0m \u001b[0;34m'supports_timeout'\u001b[0m\u001b[0;34m,\u001b[0m \u001b[0;32mFalse\u001b[0m\u001b[0;34m)\u001b[0m\u001b[0;34m:\u001b[0m\u001b[0;34m\u001b[0m\u001b[0m\n\u001b[0;32m--> 699\u001b[0;31m                     \u001b[0mself\u001b[0m\u001b[0;34m.\u001b[0m\u001b[0m_output\u001b[0m\u001b[0;34m.\u001b[0m\u001b[0mextend\u001b[0m\u001b[0;34m(\u001b[0m\u001b[0mjob\u001b[0m\u001b[0;34m.\u001b[0m\u001b[0mget\u001b[0m\u001b[0;34m(\u001b[0m\u001b[0mtimeout\u001b[0m\u001b[0;34m=\u001b[0m\u001b[0mself\u001b[0m\u001b[0;34m.\u001b[0m\u001b[0mtimeout\u001b[0m\u001b[0;34m)\u001b[0m\u001b[0;34m)\u001b[0m\u001b[0;34m\u001b[0m\u001b[0m\n\u001b[0m\u001b[1;32m    700\u001b[0m                 \u001b[0;32melse\u001b[0m\u001b[0;34m:\u001b[0m\u001b[0;34m\u001b[0m\u001b[0m\n\u001b[1;32m    701\u001b[0m                     \u001b[0mself\u001b[0m\u001b[0;34m.\u001b[0m\u001b[0m_output\u001b[0m\u001b[0;34m.\u001b[0m\u001b[0mextend\u001b[0m\u001b[0;34m(\u001b[0m\u001b[0mjob\u001b[0m\u001b[0;34m.\u001b[0m\u001b[0mget\u001b[0m\u001b[0;34m(\u001b[0m\u001b[0;34m)\u001b[0m\u001b[0;34m)\u001b[0m\u001b[0;34m\u001b[0m\u001b[0m\n",
      "\u001b[0;32m~/anaconda3/lib/python3.6/multiprocessing/pool.py\u001b[0m in \u001b[0;36mget\u001b[0;34m(self, timeout)\u001b[0m\n\u001b[1;32m    636\u001b[0m \u001b[0;34m\u001b[0m\u001b[0m\n\u001b[1;32m    637\u001b[0m     \u001b[0;32mdef\u001b[0m \u001b[0mget\u001b[0m\u001b[0;34m(\u001b[0m\u001b[0mself\u001b[0m\u001b[0;34m,\u001b[0m \u001b[0mtimeout\u001b[0m\u001b[0;34m=\u001b[0m\u001b[0;32mNone\u001b[0m\u001b[0;34m)\u001b[0m\u001b[0;34m:\u001b[0m\u001b[0;34m\u001b[0m\u001b[0m\n\u001b[0;32m--> 638\u001b[0;31m         \u001b[0mself\u001b[0m\u001b[0;34m.\u001b[0m\u001b[0mwait\u001b[0m\u001b[0;34m(\u001b[0m\u001b[0mtimeout\u001b[0m\u001b[0;34m)\u001b[0m\u001b[0;34m\u001b[0m\u001b[0m\n\u001b[0m\u001b[1;32m    639\u001b[0m         \u001b[0;32mif\u001b[0m \u001b[0;32mnot\u001b[0m \u001b[0mself\u001b[0m\u001b[0;34m.\u001b[0m\u001b[0mready\u001b[0m\u001b[0;34m(\u001b[0m\u001b[0;34m)\u001b[0m\u001b[0;34m:\u001b[0m\u001b[0;34m\u001b[0m\u001b[0m\n\u001b[1;32m    640\u001b[0m             \u001b[0;32mraise\u001b[0m \u001b[0mTimeoutError\u001b[0m\u001b[0;34m\u001b[0m\u001b[0m\n",
      "\u001b[0;32m~/anaconda3/lib/python3.6/multiprocessing/pool.py\u001b[0m in \u001b[0;36mwait\u001b[0;34m(self, timeout)\u001b[0m\n\u001b[1;32m    633\u001b[0m \u001b[0;34m\u001b[0m\u001b[0m\n\u001b[1;32m    634\u001b[0m     \u001b[0;32mdef\u001b[0m \u001b[0mwait\u001b[0m\u001b[0;34m(\u001b[0m\u001b[0mself\u001b[0m\u001b[0;34m,\u001b[0m \u001b[0mtimeout\u001b[0m\u001b[0;34m=\u001b[0m\u001b[0;32mNone\u001b[0m\u001b[0;34m)\u001b[0m\u001b[0;34m:\u001b[0m\u001b[0;34m\u001b[0m\u001b[0m\n\u001b[0;32m--> 635\u001b[0;31m         \u001b[0mself\u001b[0m\u001b[0;34m.\u001b[0m\u001b[0m_event\u001b[0m\u001b[0;34m.\u001b[0m\u001b[0mwait\u001b[0m\u001b[0;34m(\u001b[0m\u001b[0mtimeout\u001b[0m\u001b[0;34m)\u001b[0m\u001b[0;34m\u001b[0m\u001b[0m\n\u001b[0m\u001b[1;32m    636\u001b[0m \u001b[0;34m\u001b[0m\u001b[0m\n\u001b[1;32m    637\u001b[0m     \u001b[0;32mdef\u001b[0m \u001b[0mget\u001b[0m\u001b[0;34m(\u001b[0m\u001b[0mself\u001b[0m\u001b[0;34m,\u001b[0m \u001b[0mtimeout\u001b[0m\u001b[0;34m=\u001b[0m\u001b[0;32mNone\u001b[0m\u001b[0;34m)\u001b[0m\u001b[0;34m:\u001b[0m\u001b[0;34m\u001b[0m\u001b[0m\n",
      "\u001b[0;32m~/anaconda3/lib/python3.6/threading.py\u001b[0m in \u001b[0;36mwait\u001b[0;34m(self, timeout)\u001b[0m\n\u001b[1;32m    549\u001b[0m             \u001b[0msignaled\u001b[0m \u001b[0;34m=\u001b[0m \u001b[0mself\u001b[0m\u001b[0;34m.\u001b[0m\u001b[0m_flag\u001b[0m\u001b[0;34m\u001b[0m\u001b[0m\n\u001b[1;32m    550\u001b[0m             \u001b[0;32mif\u001b[0m \u001b[0;32mnot\u001b[0m \u001b[0msignaled\u001b[0m\u001b[0;34m:\u001b[0m\u001b[0;34m\u001b[0m\u001b[0m\n\u001b[0;32m--> 551\u001b[0;31m                 \u001b[0msignaled\u001b[0m \u001b[0;34m=\u001b[0m \u001b[0mself\u001b[0m\u001b[0;34m.\u001b[0m\u001b[0m_cond\u001b[0m\u001b[0;34m.\u001b[0m\u001b[0mwait\u001b[0m\u001b[0;34m(\u001b[0m\u001b[0mtimeout\u001b[0m\u001b[0;34m)\u001b[0m\u001b[0;34m\u001b[0m\u001b[0m\n\u001b[0m\u001b[1;32m    552\u001b[0m             \u001b[0;32mreturn\u001b[0m \u001b[0msignaled\u001b[0m\u001b[0;34m\u001b[0m\u001b[0m\n\u001b[1;32m    553\u001b[0m \u001b[0;34m\u001b[0m\u001b[0m\n",
      "\u001b[0;32m~/anaconda3/lib/python3.6/threading.py\u001b[0m in \u001b[0;36mwait\u001b[0;34m(self, timeout)\u001b[0m\n\u001b[1;32m    293\u001b[0m         \u001b[0;32mtry\u001b[0m\u001b[0;34m:\u001b[0m    \u001b[0;31m# restore state no matter what (e.g., KeyboardInterrupt)\u001b[0m\u001b[0;34m\u001b[0m\u001b[0m\n\u001b[1;32m    294\u001b[0m             \u001b[0;32mif\u001b[0m \u001b[0mtimeout\u001b[0m \u001b[0;32mis\u001b[0m \u001b[0;32mNone\u001b[0m\u001b[0;34m:\u001b[0m\u001b[0;34m\u001b[0m\u001b[0m\n\u001b[0;32m--> 295\u001b[0;31m                 \u001b[0mwaiter\u001b[0m\u001b[0;34m.\u001b[0m\u001b[0macquire\u001b[0m\u001b[0;34m(\u001b[0m\u001b[0;34m)\u001b[0m\u001b[0;34m\u001b[0m\u001b[0m\n\u001b[0m\u001b[1;32m    296\u001b[0m                 \u001b[0mgotit\u001b[0m \u001b[0;34m=\u001b[0m \u001b[0;32mTrue\u001b[0m\u001b[0;34m\u001b[0m\u001b[0m\n\u001b[1;32m    297\u001b[0m             \u001b[0;32melse\u001b[0m\u001b[0;34m:\u001b[0m\u001b[0;34m\u001b[0m\u001b[0m\n",
      "\u001b[0;31mKeyboardInterrupt\u001b[0m: "
     ]
    }
   ],
   "source": [
    "start_time = timer(None)\n",
    "grid_search2(GradientBoostingClassifier(), param_grid3)\n",
    "timer(start_time)"
   ]
  },
  {
   "cell_type": "code",
   "execution_count": 116,
   "metadata": {},
   "outputs": [],
   "source": [
    "from sklearn.tree import DecisionTreeClassifier"
   ]
  },
  {
   "cell_type": "markdown",
   "metadata": {},
   "source": [
    "## AdaBoostClassifier (has decision function) "
   ]
  },
  {
   "cell_type": "code",
   "execution_count": null,
   "metadata": {},
   "outputs": [],
   "source": [
    "start_time = timer(None)\n",
    "grid_search2(AdaBoostClassifier(base_estimator= DecisionTreeClassifier()), param_grid5)\n",
    "timer(start_time)"
   ]
  },
  {
   "cell_type": "code",
   "execution_count": null,
   "metadata": {},
   "outputs": [],
   "source": []
  },
  {
   "cell_type": "markdown",
   "metadata": {},
   "source": [
    "## SVC (has decision function)"
   ]
  },
  {
   "cell_type": "code",
   "execution_count": null,
   "metadata": {},
   "outputs": [],
   "source": []
  },
  {
   "cell_type": "code",
   "execution_count": null,
   "metadata": {},
   "outputs": [],
   "source": []
  }
 ],
 "metadata": {
  "kernelspec": {
   "display_name": "Python 3",
   "language": "python",
   "name": "python3"
  },
  "language_info": {
   "codemirror_mode": {
    "name": "ipython",
    "version": 3
   },
   "file_extension": ".py",
   "mimetype": "text/x-python",
   "name": "python",
   "nbconvert_exporter": "python",
   "pygments_lexer": "ipython3",
   "version": "3.6.5"
  }
 },
 "nbformat": 4,
 "nbformat_minor": 2
}
